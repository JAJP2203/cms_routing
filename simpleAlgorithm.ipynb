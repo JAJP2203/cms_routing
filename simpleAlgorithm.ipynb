{
 "cells": [
  {
   "cell_type": "markdown",
   "metadata": {
    "id": "DRBEkCVX8Pgc"
   },
   "source": [
    "# How-To\n",
    "\n",
    "\n",
    "*   Run each cell after another, starting from the top\n",
    "*   Hand in your CMEMS credentials \n",
    "*   Customize Route and algorithm parameters along the respective widget cell\n"
   ]
  },
  {
   "cell_type": "markdown",
   "metadata": {
    "id": "d626RrRd5Uhg"
   },
   "source": [
    "# Initialization\n",
    "- Installing and loading packages\n",
    "- Clone GitHub repository\n",
    "- Hand in CMEMS credentials\n",
    "- Make route settings\n",
    "  - Route start and end point (Geographic coordinates)\n",
    "  - Start and end time of route\n",
    "  - Genetic algorithm settings (generations, population, offspring)\n",
    "  - Area of Interest (Geographi coordinates Boundingbox)\n",
    "  - Draft of the ship"
   ]
  },
  {
   "cell_type": "code",
   "execution_count": null,
   "metadata": {
    "id": "HOiBlr16nDJ4"
   },
   "outputs": [],
   "source": [
    "%%capture\n",
    "!pip install pymoo\n",
    "!pip install ipywidgets"
   ]
  },
  {
   "cell_type": "code",
   "execution_count": null,
   "metadata": {},
   "outputs": [],
   "source": [
    "pip install netCDF4"
   ]
  },
  {
   "cell_type": "code",
   "execution_count": null,
   "metadata": {
    "id": "muD2gAbH91cH"
   },
   "outputs": [],
   "source": [
    "#%%capture\n",
    "#!git clone https://github.com/jsten07/cms_routing.git"
   ]
  },
  {
   "cell_type": "code",
   "execution_count": 1,
   "metadata": {
    "cellView": "form",
    "id": "V7jhNvp4X-2h"
   },
   "outputs": [],
   "source": [
    "#@title\n",
    "import ipywidgets as widgets\n",
    "from ipywidgets import HBox, VBox\n",
    "\n",
    "lon_st = widgets.FloatText(value=-73, description='Longitude start:', step = 0.1)\n",
    "lat_st = widgets.FloatText(value=40.7,description='Latitude start:', step = 0.1)\n",
    "lon_de = widgets.FloatText(value=-10,description='Longituted end:', step = 0.1)\n",
    "lat_de = widgets.FloatText(value=38.7,description='Latitude end:', step = 0.1)\n",
    "stTime = widgets.Text(value=\"20.06.2021 12:00\", description='startTime:')\n",
    "eTime = widgets.Text(value=\"30.06.2021 12:00\", description='endTime:')\n",
    "generation_count = widgets.IntText(value=50, description='generations:')\n",
    "pop_size = widgets.IntText(value=20, description='population:')\n",
    "offspring = widgets.IntText(value=10, description='offspring:')\n",
    "lon_min = widgets.IntText(value=-80, description='lon_min:')\n",
    "lon_max = widgets.IntText(value=0, description='lon_max')\n",
    "lat_min = widgets.IntText(value=10, description='lat_min')\n",
    "lat_max = widgets.IntText(value=60, description='lat_max')\n",
    "draft = widgets.FloatSlider(value=12, steps=0.1, min=6.6, max=16, description='draft')"
   ]
  },
  {
   "cell_type": "code",
   "execution_count": 2,
   "metadata": {
    "cellView": "form",
    "colab": {
     "base_uri": "https://localhost:8080/",
     "height": 390,
     "referenced_widgets": [
      "8ede14439f7f43aeaf6f063c4844ca0e",
      "cacf83a9665d4126981b2cdb89873388",
      "3c9f7a4b706e4b23993ad5599573f544",
      "cc54d115ba78428291441d2c869520c9",
      "f483a8f859c34f0d8f00d864cacccd17",
      "781448ebbcca418dbcc4a819d9df61c0",
      "184d96004b7d4349ba8b0f6698255bb1",
      "26bd006514264f5ea5cf00e7c93902c5",
      "d632a5b9448b467280af96677fbad9bd",
      "eb19bbe006ea4207a46625bb61456f3a",
      "22b6ea5111284944bd911051da6eb582",
      "61fb20f89223496ab26caf86167ce557",
      "74339fe93c794db484925391263767eb",
      "dfe4fff3005445ad839013a17507d4e1",
      "45887c6e6c024894baf6cdbc2d468c50",
      "e970999cc93142eb8e85efaf6067361d",
      "8342983676744d88b166dc1c9c75ffdb",
      "2397c43c24824fc6bd2741ae9b4995f0",
      "2084f318ee704bf796a4038968b2d55a",
      "801873543f004c6babd864b3cf85624b",
      "b8e8209e97644c3f9e72a2eeed050eb5",
      "0c69641a27154053b03adbe7272a4641",
      "88120988f99e475c82b4a8d88f034906",
      "dc682e48139a4e499e66df351c51305b",
      "23f1795adbb3426381288a13a97b4194",
      "279ab92abb4b4f0fb96b6b991aae000f",
      "4e992c85dead4cfb8903622a8170a759",
      "831e79ea07db402f81c4ad27ea6a3ce5",
      "379c51c3bb104726ad87e6de2c860b4a",
      "0f56b3ec6fdc49a4909e5eeb996e7684",
      "feb135ff8ec64a41af9b335947b92e29",
      "303272cee8a84b2b85958351eff3041a",
      "14b712f3e7914224980c68826c4feb39",
      "3710035ede5f4f50a88a61e073cb5da2",
      "0537853afbbf4d439074379feb03a69c",
      "183a34e597f44d77a6573076a3b173c8",
      "3fe342c52c444a6494e013b8c4c4e9d2",
      "c89d02031c4540329bcc6b304274793d",
      "7df8eb09fa344fb1bc981900662aa035",
      "7c49a1334ec041cc8b0073b8ef966098",
      "6923dc12719241feb2d6a69ca5d8d512",
      "8fd406a417a94495bf47aab7ad11038f",
      "76e92cef531b4d32b77d276b1595f051",
      "0291905ec0df4d06969d745961efa95e",
      "a19d5ac7a6024b4ead2f9223b4e92de5",
      "12a33667774249e0877c3daad0d59395",
      "c24070e783b84c7ba8623c1b30263001",
      "1166fb6edf3c4b0cbaeebaf06b7bbcaa",
      "f07aee925e0047e5880e23af2fbdb790",
      "1aa7b97881664708887ee2343c6cc770",
      "a7c3bc61e1e84339bdec365f059e3b7e",
      "bea9a55a5cb24d08a2d6f79f8206324f",
      "766c5a4b1be44de8877b3a476e144926",
      "529c2ff68764413fac4bfed9f8e342ed"
     ]
    },
    "executionInfo": {
     "elapsed": 236,
     "status": "ok",
     "timestamp": 1626214206938,
     "user": {
      "displayName": "Jan Stenkamp",
      "photoUrl": "",
      "userId": "02368107903858701485"
     },
     "user_tz": -120
    },
    "id": "tSMYQEg0YNbj",
    "outputId": "1b574ca5-bbf6-4c84-b2b5-a0b686685426",
    "scrolled": true
   },
   "outputs": [
    {
     "data": {
      "application/vnd.jupyter.widget-view+json": {
       "model_id": "53de59119b75489487a2a1f0ba858256",
       "version_major": 2,
       "version_minor": 0
      },
      "text/plain": [
       "Accordion(children=(VBox(children=(FloatText(value=-73.0, description='Longitude start:', step=0.1), FloatText…"
      ]
     },
     "metadata": {},
     "output_type": "display_data"
    }
   ],
   "source": [
    "#@title\n",
    "list_widgets  = [\n",
    "    widgets.VBox([lon_st, lat_st, lon_de, lat_de]),\n",
    "    widgets.VBox([stTime, eTime]),\n",
    "    widgets.VBox([pop_size, offspring, generation_count]),\n",
    "    widgets.VBox([lon_min, lon_max, lat_min, lat_max]),\n",
    "    widgets.VBox([draft])\n",
    "    ]\n",
    "                \n",
    "accordion = widgets.Accordion(children=list_widgets)\n",
    "accordion.set_title(0, 'Route Definition:')\n",
    "accordion.set_title(1, 'Start and End Time:')\n",
    "accordion.set_title(2, 'Algorithm Settings:')\n",
    "accordion.set_title(3, 'Area of Interest:')\n",
    "accordion.set_title(4, 'Ship Parameter:')\n",
    "accordion"
   ]
  },
  {
   "cell_type": "code",
   "execution_count": 3,
   "metadata": {
    "cellView": "form",
    "colab": {
     "base_uri": "https://localhost:8080/"
    },
    "executionInfo": {
     "elapsed": 410,
     "status": "ok",
     "timestamp": 1626208486952,
     "user": {
      "displayName": "Jan Stenkamp",
      "photoUrl": "",
      "userId": "02368107903858701485"
     },
     "user_tz": -120
    },
    "id": "XrxCXRHk95L0",
    "outputId": "ea8bc710-0219-4ff4-9aab-4d0e8dec7c98"
   },
   "outputs": [
    {
     "name": "stdout",
     "output_type": "stream",
     "text": [
      "/Users/tonitojuarez/Documents/GitHub/cms_routing/scripts\n"
     ]
    },
    {
     "name": "stderr",
     "output_type": "stream",
     "text": [
      "/opt/anaconda3/lib/python3.8/site-packages/pandas/core/computation/expressions.py:20: UserWarning: Pandas requires version '2.7.3' or newer of 'numexpr' (version '2.7.1' currently installed).\n",
      "  from pandas.core.computation.check import NUMEXPR_INSTALLED\n"
     ]
    }
   ],
   "source": [
    "#@title\n",
    "%cd /Users/tonitojuarez/Documents/GitHub/cms_routing/scripts\n",
    "from prediction import get_cmems\n",
    "from prediction import prepare_grid\n",
    "from prediction import calculateTimeGrid"
   ]
  },
  {
   "cell_type": "code",
   "execution_count": 4,
   "metadata": {
    "colab": {
     "base_uri": "https://localhost:8080/"
    },
    "executionInfo": {
     "elapsed": 422525,
     "status": "ok",
     "timestamp": 1626208909463,
     "user": {
      "displayName": "Jan Stenkamp",
      "photoUrl": "",
      "userId": "02368107903858701485"
     },
     "user_tz": -120
    },
    "id": "V-6aoD3eW8TO",
    "outputId": "11e2ff23-be7f-4fc2-f855-23a7b2d0ba95"
   },
   "outputs": [
    {
     "name": "stdout",
     "output_type": "stream",
     "text": [
      "Please input your CMEMS username: jjuarez\n",
      "Please input your CMEMS password: ········\n"
     ]
    }
   ],
   "source": [
    "from getpass import getpass\n",
    "## input CMEMS credentials\n",
    "UN_CMEMS = input('Please input your CMEMS username: ')\n",
    "PW_CMEMS = getpass('Please input your CMEMS password: ')"
   ]
  },
  {
   "cell_type": "code",
   "execution_count": 5,
   "metadata": {
    "cellView": "form",
    "id": "I5BRs4a9QfjI"
   },
   "outputs": [],
   "source": [
    "#@title\n",
    "lon_s = lon_st.value\n",
    "lat_s = lat_st.value\n",
    "lon_d = lon_de.value\n",
    "lat_d = lat_de.value\n",
    "\n",
    "AOI = [lon_min.value, lon_max.value, lat_min.value, lat_max.value] # lon_min, lon_max, lat_min, lat_max\n",
    "\n",
    "startTime=stTime.value\n",
    "endTime=eTime.value"
   ]
  },
  {
   "cell_type": "markdown",
   "metadata": {
    "id": "OLOCcI1L5clt"
   },
   "source": [
    "# Prepare data\n",
    "- Download CMEMS data (takes some time)\n",
    "- Prepare grids to calculate the routes on "
   ]
  },
  {
   "cell_type": "code",
   "execution_count": 9,
   "metadata": {
    "colab": {
     "base_uri": "https://localhost:8080/"
    },
    "executionInfo": {
     "elapsed": 154582,
     "status": "ok",
     "timestamp": 1626209080023,
     "user": {
      "displayName": "Jan Stenkamp",
      "photoUrl": "",
      "userId": "02368107903858701485"
     },
     "user_tz": -120
    },
    "id": "V0oaREms5Xg7",
    "outputId": "0f84285a-d9ac-47a3-f5ad-a564da95fa90"
   },
   "outputs": [
    {
     "name": "stdout",
     "output_type": "stream",
     "text": [
      "/Users/tonitojuarez/Documents/GitHub/cms_routing\n",
      "FTP error: 550 Failed to change directory.\n"
     ]
    },
    {
     "ename": "UnboundLocalError",
     "evalue": "local variable 'filename_w' referenced before assignment",
     "output_type": "error",
     "traceback": [
      "\u001b[0;31m---------------------------------------------------------------------------\u001b[0m",
      "\u001b[0;31mUnboundLocalError\u001b[0m                         Traceback (most recent call last)",
      "\u001b[0;32m<ipython-input-9-877978e6bb80>\u001b[0m in \u001b[0;36m<module>\u001b[0;34m\u001b[0m\n\u001b[1;32m      1\u001b[0m \u001b[0mget_ipython\u001b[0m\u001b[0;34m(\u001b[0m\u001b[0;34m)\u001b[0m\u001b[0;34m.\u001b[0m\u001b[0mrun_line_magic\u001b[0m\u001b[0;34m(\u001b[0m\u001b[0;34m'cd'\u001b[0m\u001b[0;34m,\u001b[0m \u001b[0;34m'..'\u001b[0m\u001b[0;34m)\u001b[0m\u001b[0;34m\u001b[0m\u001b[0;34m\u001b[0m\u001b[0m\n\u001b[0;32m----> 2\u001b[0;31m \u001b[0;34m(\u001b[0m\u001b[0mds_w\u001b[0m\u001b[0;34m,\u001b[0m \u001b[0mds_p\u001b[0m\u001b[0;34m)\u001b[0m \u001b[0;34m=\u001b[0m \u001b[0mget_cmems\u001b[0m\u001b[0;34m(\u001b[0m\u001b[0mstartTime\u001b[0m\u001b[0;34m,\u001b[0m \u001b[0mendTime\u001b[0m\u001b[0;34m,\u001b[0m \u001b[0mUN_CMEMS\u001b[0m\u001b[0;34m,\u001b[0m \u001b[0mPW_CMEMS\u001b[0m\u001b[0;34m)\u001b[0m\u001b[0;34m\u001b[0m\u001b[0;34m\u001b[0m\u001b[0m\n\u001b[0m\u001b[1;32m      3\u001b[0m \u001b[0mget_ipython\u001b[0m\u001b[0;34m(\u001b[0m\u001b[0;34m)\u001b[0m\u001b[0;34m.\u001b[0m\u001b[0mrun_line_magic\u001b[0m\u001b[0;34m(\u001b[0m\u001b[0;34m'cd'\u001b[0m\u001b[0;34m,\u001b[0m \u001b[0;34m'/Users/tonitojuarez/Documents/GitHub/cms_routing/scripts'\u001b[0m\u001b[0;34m)\u001b[0m\u001b[0;34m\u001b[0m\u001b[0;34m\u001b[0m\u001b[0m\n",
      "\u001b[0;32m~/Documents/GitHub/cms_routing/scripts/prediction.py\u001b[0m in \u001b[0;36mget_cmems\u001b[0;34m(date_start, date_end, UN_CMEMS, PW_CMEMS)\u001b[0m\n\u001b[1;32m    286\u001b[0m             \u001b[0mprint\u001b[0m\u001b[0;34m(\u001b[0m\u001b[0;34m'FTP error:'\u001b[0m\u001b[0;34m,\u001b[0m \u001b[0me\u001b[0m\u001b[0;34m)\u001b[0m\u001b[0;34m\u001b[0m\u001b[0;34m\u001b[0m\u001b[0m\n\u001b[1;32m    287\u001b[0m \u001b[0;34m\u001b[0m\u001b[0m\n\u001b[0;32m--> 288\u001b[0;31m     \u001b[0mdownload\u001b[0m\u001b[0;34m(\u001b[0m\u001b[0murl\u001b[0m\u001b[0;34m,\u001b[0m \u001b[0mUN_CMEMS\u001b[0m\u001b[0;34m,\u001b[0m \u001b[0mPW_CMEMS\u001b[0m\u001b[0;34m,\u001b[0m \u001b[0mpath_w\u001b[0m\u001b[0;34m,\u001b[0m \u001b[0mfilename_w\u001b[0m\u001b[0;34m)\u001b[0m\u001b[0;34m\u001b[0m\u001b[0;34m\u001b[0m\u001b[0m\n\u001b[0m\u001b[1;32m    289\u001b[0m     \u001b[0mdownload\u001b[0m\u001b[0;34m(\u001b[0m\u001b[0murl\u001b[0m\u001b[0;34m,\u001b[0m \u001b[0mUN_CMEMS\u001b[0m\u001b[0;34m,\u001b[0m \u001b[0mPW_CMEMS\u001b[0m\u001b[0;34m,\u001b[0m \u001b[0mpath_p\u001b[0m\u001b[0;34m,\u001b[0m \u001b[0mfilename_p\u001b[0m\u001b[0;34m)\u001b[0m\u001b[0;34m\u001b[0m\u001b[0;34m\u001b[0m\u001b[0m\n\u001b[1;32m    290\u001b[0m \u001b[0;34m\u001b[0m\u001b[0m\n",
      "\u001b[0;31mUnboundLocalError\u001b[0m: local variable 'filename_w' referenced before assignment"
     ]
    }
   ],
   "source": [
    "%cd ..\n",
    "(ds_w, ds_p) = get_cmems(startTime, endTime, UN_CMEMS, PW_CMEMS)\n",
    "%cd /Users/tonitojuarez/Documents/GitHub/cms_routing/scripts"
   ]
  },
  {
   "cell_type": "code",
   "execution_count": null,
   "metadata": {
    "cellView": "form",
    "id": "oBcxFWdDU1b9"
   },
   "outputs": [],
   "source": [
    "#@title\n",
    "from joblib import load\n",
    "model = load(\"/content/cms_routing/models/DTR_model.joblib\")\n",
    "SOG_N = prepare_grid(ds_w, ds_p, draft.value, \"N\", model)\n",
    "SOG_E = prepare_grid(ds_w, ds_p, draft.value, \"E\", model)\n",
    "SOG_S = prepare_grid(ds_w, ds_p, draft.value, \"S\", model)\n",
    "SOG_W = prepare_grid(ds_w, ds_p, draft.value, \"W\", model)"
   ]
  },
  {
   "cell_type": "code",
   "execution_count": null,
   "metadata": {
    "cellView": "form",
    "id": "d7V3ZNA5RVi9"
   },
   "outputs": [],
   "source": [
    "#@title\n",
    "import xarray as xr\n",
    "import numpy as np\n",
    "def get_closest(array, value):\n",
    "    return np.abs(array - value).argmin()\n",
    "\n",
    "ds = xr.open_dataset(xr.backends.NetCDF4DataStore(ds_w))\n",
    "\n",
    "start_lon = get_closest(ds.longitude.data, lon_s)\n",
    "start_lat = ds.sizes[\"latitude\"]-get_closest(ds.latitude.data, lat_s)\n",
    "dest_lon = get_closest(ds.longitude.data, lon_d)\n",
    "dest_lat = ds.sizes[\"latitude\"]-get_closest(ds.latitude.data, lat_d)\n",
    "\n",
    "AOI = [get_closest(ds.longitude.data, AOI[0]),get_closest(ds.longitude.data, AOI[1]), 2041 - get_closest(ds.latitude.data, AOI[3]), 2041 - get_closest(ds.latitude.data, AOI[2])]\n",
    "\n",
    "startpoint = (start_lat-AOI[2], start_lon-AOI[0])\n",
    "endpoint = (dest_lat-AOI[2], dest_lon-AOI[0])"
   ]
  },
  {
   "cell_type": "code",
   "execution_count": null,
   "metadata": {
    "id": "g2NTh0UUo-Zk"
   },
   "outputs": [],
   "source": [
    "timeGrids= calculateTimeGrid(SOG_E, SOG_N, SOG_S, SOG_W, AOI)"
   ]
  },
  {
   "cell_type": "code",
   "execution_count": null,
   "metadata": {
    "cellView": "form",
    "colab": {
     "base_uri": "https://localhost:8080/",
     "height": 357
    },
    "executionInfo": {
     "elapsed": 560,
     "status": "error",
     "timestamp": 1626209525572,
     "user": {
      "displayName": "Jan Stenkamp",
      "photoUrl": "",
      "userId": "02368107903858701485"
     },
     "user_tz": -120
    },
    "id": "QEO7ctkaXCbJ",
    "outputId": "5d606e6c-50ee-4fd4-e90d-be05cdeb04cc"
   },
   "outputs": [],
   "source": [
    "#@title\n",
    "from skimage.graph import route_through_array\n",
    "from calculate_objectives import calculateTime\n",
    "\n",
    "\n",
    "def predictNeededTime(startPoint, endPoint, timeGrid):\n",
    "\n",
    "   route, weight = route_through_array(timeGrid, startPoint, endPoint, fully_connected=False, geometric=True)\n",
    "   time = calculateTime(route, timeGrid)\n",
    "   return(time)\n",
    "\n",
    "time = predictNeededTime(startpoint, endpoint, timeGrids[1])\n",
    "print(time)"
   ]
  },
  {
   "cell_type": "markdown",
   "metadata": {
    "id": "s0VclEJi5leY"
   },
   "source": [
    "# Run Algorithm\n",
    "- Run NSGA II algorithm \n",
    "- Measure time needed to run the algorithm"
   ]
  },
  {
   "cell_type": "code",
   "execution_count": null,
   "metadata": {
    "colab": {
     "base_uri": "https://localhost:8080/"
    },
    "executionInfo": {
     "elapsed": 158626,
     "status": "ok",
     "timestamp": 1626214392051,
     "user": {
      "displayName": "Jan Stenkamp",
      "photoUrl": "",
      "userId": "02368107903858701485"
     },
     "user_tz": -120
    },
    "id": "GKUBETy2Rav8",
    "outputId": "d5fdbce9-79d5-41b0-ae9c-edd5d20480bb"
   },
   "outputs": [],
   "source": [
    "from runAlgorithm import runAlgorithm\n",
    "from time import process_time\n",
    "\n",
    "t_start = process_time()\n",
    "res = runAlgorithm(startpoint, endpoint, startTime, endTime, timeGrids[1], population=pop_size.value, offspring=offspring.value, generations=20)\n",
    "t_stop = process_time()\n",
    "time_lr = t_stop-t_start\n",
    "print(\"Elapsed time in seconds: \", time_lr)"
   ]
  },
  {
   "cell_type": "code",
   "execution_count": null,
   "metadata": {
    "id": "_7HkoJ7tRqY-"
   },
   "outputs": [],
   "source": [
    "np.save(\"./routes_simple_20g_10d_40pop\",res.X)\n",
    "np.save(\"./values_simple_20g_10d_40pop\",res.F)"
   ]
  },
  {
   "cell_type": "code",
   "execution_count": null,
   "metadata": {
    "id": "Ybhw4NlGZc06"
   },
   "outputs": [],
   "source": [
    "results = res.F\n",
    "routes = res.X"
   ]
  },
  {
   "cell_type": "code",
   "execution_count": null,
   "metadata": {
    "id": "J-nw0mK45wMn"
   },
   "outputs": [],
   "source": [
    "# Visualization\n",
    "- Show routes on map\n",
    "  - Best in-time route\n",
    "  - Most energy efficient route (least fuel use)\n",
    "- Plot pareto front\n",
    "- Plot pareto fronts over generations"
   ]
  },
  {
   "cell_type": "code",
   "execution_count": null,
   "metadata": {
    "cellView": "form",
    "colab": {
     "base_uri": "https://localhost:8080/",
     "height": 449
    },
    "executionInfo": {
     "elapsed": 979,
     "status": "ok",
     "timestamp": 1626214393023,
     "user": {
      "displayName": "Jan Stenkamp",
      "photoUrl": "",
      "userId": "02368107903858701485"
     },
     "user_tz": -120
    },
    "id": "9tjecbfRaHGq",
    "outputId": "559e892e-b4b0-437e-c8a6-4419c247d287"
   },
   "outputs": [],
   "source": [
    "#@title\n",
    "import matplotlib.pyplot as plt\n",
    "from matplotlib.colors import ListedColormap\n",
    "import matplotlib.patches as mpatches\n",
    "import matplotlib.colors\n",
    "from matplotlib.lines import Line2D\n",
    "route_minTime = routes[np.argmin(results[:,0], axis=0)][1]\n",
    "route_minfuelUSe = routes[np.argmin(results[:,1], axis=0)][1]\n",
    "\n",
    "route_minTime_Display =   np.stack(route_minTime, axis=-1)\n",
    "route_minfuelUSe_Display =   np.stack(route_minfuelUSe, axis=-1)\n",
    "\n",
    "# timeGridsDisplay= np.where(timeGrids[1][2] > 999, np.nan, timeGrids[1][2])\n",
    "\n",
    "plt.figure(figsize=(14,7))\n",
    "from matplotlib import cm\n",
    "\n",
    "timeGrid = np.where(timeGrids[1][2] > 999, np.nan, timeGrids[1][2])\n",
    "# Costs\n",
    "im = plt.imshow(timeGrid, aspect='auto', vmax=80);\n",
    "# Route\n",
    "plt.plot(route_minTime_Display[1],route_minTime_Display[0], 'r')\n",
    "plt.plot(route_minfuelUSe_Display[1],route_minfuelUSe_Display[0], 'b')\n",
    "# Start/end points\n",
    "plt.plot(startpoint[1], startpoint[0], 'k^', markersize=15)\n",
    "plt.plot(endpoint[1], endpoint[0], 'k*', markersize=15)\n",
    "# plt.colorbar(im, ax=plt, orientation='horizontal', label='time per grid cell', shrink=0.8);\n",
    "\n",
    "custom_lines = [Line2D([0], [0], color='r', lw=4),\n",
    "                Line2D([0], [0], color='b', lw=4)]\n",
    "plt.legend(custom_lines, ['in time', 'min fuel'])"
   ]
  },
  {
   "cell_type": "code",
   "execution_count": null,
   "metadata": {
    "cellView": "form",
    "colab": {
     "base_uri": "https://localhost:8080/",
     "height": 638
    },
    "executionInfo": {
     "elapsed": 691,
     "status": "ok",
     "timestamp": 1626212761438,
     "user": {
      "displayName": "Jan Stenkamp",
      "photoUrl": "",
      "userId": "02368107903858701485"
     },
     "user_tz": -120
    },
    "id": "mK8P0tu_aHw1",
    "outputId": "52c573eb-b39f-46dc-c458-bc43bcd20f15"
   },
   "outputs": [],
   "source": [
    "#@title\n",
    "import math\n",
    "from datetime import time, timedelta\n",
    "# Pareto Front\n",
    "def transformTick(timeDifference):\n",
    "    td = timedelta(minutes=timeDifference)\n",
    "    return \".\".join(str(td).split(':')[:2])\n",
    "    \n",
    "\n",
    "timeDiffs= results[:,0]\n",
    "timeDiff = np.array([math.sqrt(x) for x in timeDiffs])\n",
    "\n",
    "f1, ax1 = plt.subplots(1, figsize=(15,10))\n",
    "plt.scatter(timeDiff,results[:,1])\n",
    "a= ax1.get_xticks().tolist()\n",
    "print(a)\n",
    "result= map(transformTick, a)\n",
    "ax1.set_xticklabels(result)\n",
    "ax1.set_title(\"Objective Space\")\n",
    "ax1.set_xlabel('Time Difference')\n",
    "ax1.set_ylabel('Fuel Use')\n",
    "#plt.savefig(default_directory+\"/results2016N6/pareto_front.png\")\n",
    "plt.show()"
   ]
  },
  {
   "cell_type": "code",
   "execution_count": null,
   "metadata": {
    "cellView": "form",
    "id": "BsG7RRhuTD7c"
   },
   "outputs": [],
   "source": [
    "#@title\n",
    "# Create an empty list to save objective values per generation\n",
    "# Needed for history \n",
    "f = []\n",
    "# iterate over the generations\n",
    "for generation in res.history:\n",
    " # retrieve the optimal for all objectives from the generation\n",
    " opt = generation.opt\n",
    " this_f = opt.get(\"F\")\n",
    " f.append(this_f)\n",
    "\n",
    "fNumpy = np.asarray(f)\n",
    "history = fNumpy"
   ]
  },
  {
   "cell_type": "code",
   "execution_count": null,
   "metadata": {
    "cellView": "form",
    "id": "Pf_-GG4qUL1d"
   },
   "outputs": [],
   "source": [
    "#@title\n",
    "# add here the generations you want to see in the plot\n",
    "generations2plot = [math.floor(generation_count.value*0.2), math.floor(generation_count.value*0.4), math.floor(generation_count.value*0.6), math.floor(generation_count.value*0.8),generation_count.value]\n",
    "# make the plot\n",
    "fig4, ax4 = plt.subplots(1)\n",
    "# i - 1, because generation 1 has index 0\n",
    "for i in generations2plot:\n",
    " plt.scatter(history[i-1][:,0],history[i-1][:,1])\n",
    "\n",
    "plt.legend(generations2plot)\n",
    "plt.show()"
   ]
  }
 ],
 "metadata": {
  "colab": {
   "collapsed_sections": [],
   "name": "simpleAlgorithm.ipynb",
   "provenance": [
    {
     "file_id": "1QrRJWd1SI-4rbmLsx19NNWkL_KpcW-HI",
     "timestamp": 1626791022602
    }
   ]
  },
  "kernelspec": {
   "display_name": "Python 3",
   "language": "python",
   "name": "python3"
  },
  "language_info": {
   "codemirror_mode": {
    "name": "ipython",
    "version": 3
   },
   "file_extension": ".py",
   "mimetype": "text/x-python",
   "name": "python",
   "nbconvert_exporter": "python",
   "pygments_lexer": "ipython3",
   "version": "3.8.5"
  },
  "widgets": {
   "application/vnd.jupyter.widget-state+json": {
    "0291905ec0df4d06969d745961efa95e": {
     "model_module": "@jupyter-widgets/base",
     "model_name": "LayoutModel",
     "state": {
      "_model_module": "@jupyter-widgets/base",
      "_model_module_version": "1.2.0",
      "_model_name": "LayoutModel",
      "_view_count": null,
      "_view_module": "@jupyter-widgets/base",
      "_view_module_version": "1.2.0",
      "_view_name": "LayoutView",
      "align_content": null,
      "align_items": null,
      "align_self": null,
      "border": null,
      "bottom": null,
      "display": null,
      "flex": null,
      "flex_flow": null,
      "grid_area": null,
      "grid_auto_columns": null,
      "grid_auto_flow": null,
      "grid_auto_rows": null,
      "grid_column": null,
      "grid_gap": null,
      "grid_row": null,
      "grid_template_areas": null,
      "grid_template_columns": null,
      "grid_template_rows": null,
      "height": null,
      "justify_content": null,
      "justify_items": null,
      "left": null,
      "margin": null,
      "max_height": null,
      "max_width": null,
      "min_height": null,
      "min_width": null,
      "object_fit": null,
      "object_position": null,
      "order": null,
      "overflow": null,
      "overflow_x": null,
      "overflow_y": null,
      "padding": null,
      "right": null,
      "top": null,
      "visibility": null,
      "width": null
     }
    },
    "0537853afbbf4d439074379feb03a69c": {
     "model_module": "@jupyter-widgets/controls",
     "model_name": "DescriptionStyleModel",
     "state": {
      "_model_module": "@jupyter-widgets/controls",
      "_model_module_version": "1.5.0",
      "_model_name": "DescriptionStyleModel",
      "_view_count": null,
      "_view_module": "@jupyter-widgets/base",
      "_view_module_version": "1.2.0",
      "_view_name": "StyleView",
      "description_width": ""
     }
    },
    "0c69641a27154053b03adbe7272a4641": {
     "model_module": "@jupyter-widgets/controls",
     "model_name": "IntTextModel",
     "state": {
      "_dom_classes": [],
      "_model_module": "@jupyter-widgets/controls",
      "_model_module_version": "1.5.0",
      "_model_name": "IntTextModel",
      "_view_count": null,
      "_view_module": "@jupyter-widgets/controls",
      "_view_module_version": "1.5.0",
      "_view_name": "IntTextView",
      "continuous_update": false,
      "description": "lon_max",
      "description_tooltip": null,
      "disabled": false,
      "layout": "IPY_MODEL_1166fb6edf3c4b0cbaeebaf06b7bbcaa",
      "step": 1,
      "style": "IPY_MODEL_c24070e783b84c7ba8623c1b30263001",
      "value": 0
     }
    },
    "0f56b3ec6fdc49a4909e5eeb996e7684": {
     "model_module": "@jupyter-widgets/base",
     "model_name": "LayoutModel",
     "state": {
      "_model_module": "@jupyter-widgets/base",
      "_model_module_version": "1.2.0",
      "_model_name": "LayoutModel",
      "_view_count": null,
      "_view_module": "@jupyter-widgets/base",
      "_view_module_version": "1.2.0",
      "_view_name": "LayoutView",
      "align_content": null,
      "align_items": null,
      "align_self": null,
      "border": null,
      "bottom": null,
      "display": null,
      "flex": null,
      "flex_flow": null,
      "grid_area": null,
      "grid_auto_columns": null,
      "grid_auto_flow": null,
      "grid_auto_rows": null,
      "grid_column": null,
      "grid_gap": null,
      "grid_row": null,
      "grid_template_areas": null,
      "grid_template_columns": null,
      "grid_template_rows": null,
      "height": null,
      "justify_content": null,
      "justify_items": null,
      "left": null,
      "margin": null,
      "max_height": null,
      "max_width": null,
      "min_height": null,
      "min_width": null,
      "object_fit": null,
      "object_position": null,
      "order": null,
      "overflow": null,
      "overflow_x": null,
      "overflow_y": null,
      "padding": null,
      "right": null,
      "top": null,
      "visibility": null,
      "width": null
     }
    },
    "1166fb6edf3c4b0cbaeebaf06b7bbcaa": {
     "model_module": "@jupyter-widgets/base",
     "model_name": "LayoutModel",
     "state": {
      "_model_module": "@jupyter-widgets/base",
      "_model_module_version": "1.2.0",
      "_model_name": "LayoutModel",
      "_view_count": null,
      "_view_module": "@jupyter-widgets/base",
      "_view_module_version": "1.2.0",
      "_view_name": "LayoutView",
      "align_content": null,
      "align_items": null,
      "align_self": null,
      "border": null,
      "bottom": null,
      "display": null,
      "flex": null,
      "flex_flow": null,
      "grid_area": null,
      "grid_auto_columns": null,
      "grid_auto_flow": null,
      "grid_auto_rows": null,
      "grid_column": null,
      "grid_gap": null,
      "grid_row": null,
      "grid_template_areas": null,
      "grid_template_columns": null,
      "grid_template_rows": null,
      "height": null,
      "justify_content": null,
      "justify_items": null,
      "left": null,
      "margin": null,
      "max_height": null,
      "max_width": null,
      "min_height": null,
      "min_width": null,
      "object_fit": null,
      "object_position": null,
      "order": null,
      "overflow": null,
      "overflow_x": null,
      "overflow_y": null,
      "padding": null,
      "right": null,
      "top": null,
      "visibility": null,
      "width": null
     }
    },
    "12a33667774249e0877c3daad0d59395": {
     "model_module": "@jupyter-widgets/base",
     "model_name": "LayoutModel",
     "state": {
      "_model_module": "@jupyter-widgets/base",
      "_model_module_version": "1.2.0",
      "_model_name": "LayoutModel",
      "_view_count": null,
      "_view_module": "@jupyter-widgets/base",
      "_view_module_version": "1.2.0",
      "_view_name": "LayoutView",
      "align_content": null,
      "align_items": null,
      "align_self": null,
      "border": null,
      "bottom": null,
      "display": null,
      "flex": null,
      "flex_flow": null,
      "grid_area": null,
      "grid_auto_columns": null,
      "grid_auto_flow": null,
      "grid_auto_rows": null,
      "grid_column": null,
      "grid_gap": null,
      "grid_row": null,
      "grid_template_areas": null,
      "grid_template_columns": null,
      "grid_template_rows": null,
      "height": null,
      "justify_content": null,
      "justify_items": null,
      "left": null,
      "margin": null,
      "max_height": null,
      "max_width": null,
      "min_height": null,
      "min_width": null,
      "object_fit": null,
      "object_position": null,
      "order": null,
      "overflow": null,
      "overflow_x": null,
      "overflow_y": null,
      "padding": null,
      "right": null,
      "top": null,
      "visibility": null,
      "width": null
     }
    },
    "14b712f3e7914224980c68826c4feb39": {
     "model_module": "@jupyter-widgets/controls",
     "model_name": "DescriptionStyleModel",
     "state": {
      "_model_module": "@jupyter-widgets/controls",
      "_model_module_version": "1.5.0",
      "_model_name": "DescriptionStyleModel",
      "_view_count": null,
      "_view_module": "@jupyter-widgets/base",
      "_view_module_version": "1.2.0",
      "_view_name": "StyleView",
      "description_width": ""
     }
    },
    "183a34e597f44d77a6573076a3b173c8": {
     "model_module": "@jupyter-widgets/base",
     "model_name": "LayoutModel",
     "state": {
      "_model_module": "@jupyter-widgets/base",
      "_model_module_version": "1.2.0",
      "_model_name": "LayoutModel",
      "_view_count": null,
      "_view_module": "@jupyter-widgets/base",
      "_view_module_version": "1.2.0",
      "_view_name": "LayoutView",
      "align_content": null,
      "align_items": null,
      "align_self": null,
      "border": null,
      "bottom": null,
      "display": null,
      "flex": null,
      "flex_flow": null,
      "grid_area": null,
      "grid_auto_columns": null,
      "grid_auto_flow": null,
      "grid_auto_rows": null,
      "grid_column": null,
      "grid_gap": null,
      "grid_row": null,
      "grid_template_areas": null,
      "grid_template_columns": null,
      "grid_template_rows": null,
      "height": null,
      "justify_content": null,
      "justify_items": null,
      "left": null,
      "margin": null,
      "max_height": null,
      "max_width": null,
      "min_height": null,
      "min_width": null,
      "object_fit": null,
      "object_position": null,
      "order": null,
      "overflow": null,
      "overflow_x": null,
      "overflow_y": null,
      "padding": null,
      "right": null,
      "top": null,
      "visibility": null,
      "width": null
     }
    },
    "184d96004b7d4349ba8b0f6698255bb1": {
     "model_module": "@jupyter-widgets/controls",
     "model_name": "VBoxModel",
     "state": {
      "_dom_classes": [],
      "_model_module": "@jupyter-widgets/controls",
      "_model_module_version": "1.5.0",
      "_model_name": "VBoxModel",
      "_view_count": null,
      "_view_module": "@jupyter-widgets/controls",
      "_view_module_version": "1.5.0",
      "_view_name": "VBoxView",
      "box_style": "",
      "children": [
       "IPY_MODEL_279ab92abb4b4f0fb96b6b991aae000f"
      ],
      "layout": "IPY_MODEL_23f1795adbb3426381288a13a97b4194"
     }
    },
    "1aa7b97881664708887ee2343c6cc770": {
     "model_module": "@jupyter-widgets/base",
     "model_name": "LayoutModel",
     "state": {
      "_model_module": "@jupyter-widgets/base",
      "_model_module_version": "1.2.0",
      "_model_name": "LayoutModel",
      "_view_count": null,
      "_view_module": "@jupyter-widgets/base",
      "_view_module_version": "1.2.0",
      "_view_name": "LayoutView",
      "align_content": null,
      "align_items": null,
      "align_self": null,
      "border": null,
      "bottom": null,
      "display": null,
      "flex": null,
      "flex_flow": null,
      "grid_area": null,
      "grid_auto_columns": null,
      "grid_auto_flow": null,
      "grid_auto_rows": null,
      "grid_column": null,
      "grid_gap": null,
      "grid_row": null,
      "grid_template_areas": null,
      "grid_template_columns": null,
      "grid_template_rows": null,
      "height": null,
      "justify_content": null,
      "justify_items": null,
      "left": null,
      "margin": null,
      "max_height": null,
      "max_width": null,
      "min_height": null,
      "min_width": null,
      "object_fit": null,
      "object_position": null,
      "order": null,
      "overflow": null,
      "overflow_x": null,
      "overflow_y": null,
      "padding": null,
      "right": null,
      "top": null,
      "visibility": null,
      "width": null
     }
    },
    "2084f318ee704bf796a4038968b2d55a": {
     "model_module": "@jupyter-widgets/controls",
     "model_name": "IntTextModel",
     "state": {
      "_dom_classes": [],
      "_model_module": "@jupyter-widgets/controls",
      "_model_module_version": "1.5.0",
      "_model_name": "IntTextModel",
      "_view_count": null,
      "_view_module": "@jupyter-widgets/controls",
      "_view_module_version": "1.5.0",
      "_view_name": "IntTextView",
      "continuous_update": false,
      "description": "generations:",
      "description_tooltip": null,
      "disabled": false,
      "layout": "IPY_MODEL_0291905ec0df4d06969d745961efa95e",
      "step": 1,
      "style": "IPY_MODEL_76e92cef531b4d32b77d276b1595f051",
      "value": 50
     }
    },
    "22b6ea5111284944bd911051da6eb582": {
     "model_module": "@jupyter-widgets/controls",
     "model_name": "FloatTextModel",
     "state": {
      "_dom_classes": [],
      "_model_module": "@jupyter-widgets/controls",
      "_model_module_version": "1.5.0",
      "_model_name": "FloatTextModel",
      "_view_count": null,
      "_view_module": "@jupyter-widgets/controls",
      "_view_module_version": "1.5.0",
      "_view_name": "FloatTextView",
      "continuous_update": false,
      "description": "Longituted end:",
      "description_tooltip": null,
      "disabled": false,
      "layout": "IPY_MODEL_303272cee8a84b2b85958351eff3041a",
      "step": 0.1,
      "style": "IPY_MODEL_feb135ff8ec64a41af9b335947b92e29",
      "value": -10
     }
    },
    "2397c43c24824fc6bd2741ae9b4995f0": {
     "model_module": "@jupyter-widgets/controls",
     "model_name": "IntTextModel",
     "state": {
      "_dom_classes": [],
      "_model_module": "@jupyter-widgets/controls",
      "_model_module_version": "1.5.0",
      "_model_name": "IntTextModel",
      "_view_count": null,
      "_view_module": "@jupyter-widgets/controls",
      "_view_module_version": "1.5.0",
      "_view_name": "IntTextView",
      "continuous_update": false,
      "description": "offspring:",
      "description_tooltip": null,
      "disabled": false,
      "layout": "IPY_MODEL_8fd406a417a94495bf47aab7ad11038f",
      "step": 1,
      "style": "IPY_MODEL_6923dc12719241feb2d6a69ca5d8d512",
      "value": 10
     }
    },
    "23f1795adbb3426381288a13a97b4194": {
     "model_module": "@jupyter-widgets/base",
     "model_name": "LayoutModel",
     "state": {
      "_model_module": "@jupyter-widgets/base",
      "_model_module_version": "1.2.0",
      "_model_name": "LayoutModel",
      "_view_count": null,
      "_view_module": "@jupyter-widgets/base",
      "_view_module_version": "1.2.0",
      "_view_name": "LayoutView",
      "align_content": null,
      "align_items": null,
      "align_self": null,
      "border": null,
      "bottom": null,
      "display": null,
      "flex": null,
      "flex_flow": null,
      "grid_area": null,
      "grid_auto_columns": null,
      "grid_auto_flow": null,
      "grid_auto_rows": null,
      "grid_column": null,
      "grid_gap": null,
      "grid_row": null,
      "grid_template_areas": null,
      "grid_template_columns": null,
      "grid_template_rows": null,
      "height": null,
      "justify_content": null,
      "justify_items": null,
      "left": null,
      "margin": null,
      "max_height": null,
      "max_width": null,
      "min_height": null,
      "min_width": null,
      "object_fit": null,
      "object_position": null,
      "order": null,
      "overflow": null,
      "overflow_x": null,
      "overflow_y": null,
      "padding": null,
      "right": null,
      "top": null,
      "visibility": null,
      "width": null
     }
    },
    "26bd006514264f5ea5cf00e7c93902c5": {
     "model_module": "@jupyter-widgets/base",
     "model_name": "LayoutModel",
     "state": {
      "_model_module": "@jupyter-widgets/base",
      "_model_module_version": "1.2.0",
      "_model_name": "LayoutModel",
      "_view_count": null,
      "_view_module": "@jupyter-widgets/base",
      "_view_module_version": "1.2.0",
      "_view_name": "LayoutView",
      "align_content": null,
      "align_items": null,
      "align_self": null,
      "border": null,
      "bottom": null,
      "display": null,
      "flex": null,
      "flex_flow": null,
      "grid_area": null,
      "grid_auto_columns": null,
      "grid_auto_flow": null,
      "grid_auto_rows": null,
      "grid_column": null,
      "grid_gap": null,
      "grid_row": null,
      "grid_template_areas": null,
      "grid_template_columns": null,
      "grid_template_rows": null,
      "height": null,
      "justify_content": null,
      "justify_items": null,
      "left": null,
      "margin": null,
      "max_height": null,
      "max_width": null,
      "min_height": null,
      "min_width": null,
      "object_fit": null,
      "object_position": null,
      "order": null,
      "overflow": null,
      "overflow_x": null,
      "overflow_y": null,
      "padding": null,
      "right": null,
      "top": null,
      "visibility": null,
      "width": null
     }
    },
    "279ab92abb4b4f0fb96b6b991aae000f": {
     "model_module": "@jupyter-widgets/controls",
     "model_name": "FloatSliderModel",
     "state": {
      "_dom_classes": [],
      "_model_module": "@jupyter-widgets/controls",
      "_model_module_version": "1.5.0",
      "_model_name": "FloatSliderModel",
      "_view_count": null,
      "_view_module": "@jupyter-widgets/controls",
      "_view_module_version": "1.5.0",
      "_view_name": "FloatSliderView",
      "continuous_update": true,
      "description": "draft",
      "description_tooltip": null,
      "disabled": false,
      "layout": "IPY_MODEL_529c2ff68764413fac4bfed9f8e342ed",
      "max": 16,
      "min": 6.6,
      "orientation": "horizontal",
      "readout": true,
      "readout_format": ".2f",
      "step": 0.1,
      "style": "IPY_MODEL_766c5a4b1be44de8877b3a476e144926",
      "value": 12
     }
    },
    "303272cee8a84b2b85958351eff3041a": {
     "model_module": "@jupyter-widgets/base",
     "model_name": "LayoutModel",
     "state": {
      "_model_module": "@jupyter-widgets/base",
      "_model_module_version": "1.2.0",
      "_model_name": "LayoutModel",
      "_view_count": null,
      "_view_module": "@jupyter-widgets/base",
      "_view_module_version": "1.2.0",
      "_view_name": "LayoutView",
      "align_content": null,
      "align_items": null,
      "align_self": null,
      "border": null,
      "bottom": null,
      "display": null,
      "flex": null,
      "flex_flow": null,
      "grid_area": null,
      "grid_auto_columns": null,
      "grid_auto_flow": null,
      "grid_auto_rows": null,
      "grid_column": null,
      "grid_gap": null,
      "grid_row": null,
      "grid_template_areas": null,
      "grid_template_columns": null,
      "grid_template_rows": null,
      "height": null,
      "justify_content": null,
      "justify_items": null,
      "left": null,
      "margin": null,
      "max_height": null,
      "max_width": null,
      "min_height": null,
      "min_width": null,
      "object_fit": null,
      "object_position": null,
      "order": null,
      "overflow": null,
      "overflow_x": null,
      "overflow_y": null,
      "padding": null,
      "right": null,
      "top": null,
      "visibility": null,
      "width": null
     }
    },
    "3710035ede5f4f50a88a61e073cb5da2": {
     "model_module": "@jupyter-widgets/base",
     "model_name": "LayoutModel",
     "state": {
      "_model_module": "@jupyter-widgets/base",
      "_model_module_version": "1.2.0",
      "_model_name": "LayoutModel",
      "_view_count": null,
      "_view_module": "@jupyter-widgets/base",
      "_view_module_version": "1.2.0",
      "_view_name": "LayoutView",
      "align_content": null,
      "align_items": null,
      "align_self": null,
      "border": null,
      "bottom": null,
      "display": null,
      "flex": null,
      "flex_flow": null,
      "grid_area": null,
      "grid_auto_columns": null,
      "grid_auto_flow": null,
      "grid_auto_rows": null,
      "grid_column": null,
      "grid_gap": null,
      "grid_row": null,
      "grid_template_areas": null,
      "grid_template_columns": null,
      "grid_template_rows": null,
      "height": null,
      "justify_content": null,
      "justify_items": null,
      "left": null,
      "margin": null,
      "max_height": null,
      "max_width": null,
      "min_height": null,
      "min_width": null,
      "object_fit": null,
      "object_position": null,
      "order": null,
      "overflow": null,
      "overflow_x": null,
      "overflow_y": null,
      "padding": null,
      "right": null,
      "top": null,
      "visibility": null,
      "width": null
     }
    },
    "379c51c3bb104726ad87e6de2c860b4a": {
     "model_module": "@jupyter-widgets/controls",
     "model_name": "DescriptionStyleModel",
     "state": {
      "_model_module": "@jupyter-widgets/controls",
      "_model_module_version": "1.5.0",
      "_model_name": "DescriptionStyleModel",
      "_view_count": null,
      "_view_module": "@jupyter-widgets/base",
      "_view_module_version": "1.2.0",
      "_view_name": "StyleView",
      "description_width": ""
     }
    },
    "3c9f7a4b706e4b23993ad5599573f544": {
     "model_module": "@jupyter-widgets/controls",
     "model_name": "VBoxModel",
     "state": {
      "_dom_classes": [],
      "_model_module": "@jupyter-widgets/controls",
      "_model_module_version": "1.5.0",
      "_model_name": "VBoxModel",
      "_view_count": null,
      "_view_module": "@jupyter-widgets/controls",
      "_view_module_version": "1.5.0",
      "_view_name": "VBoxView",
      "box_style": "",
      "children": [
       "IPY_MODEL_d632a5b9448b467280af96677fbad9bd",
       "IPY_MODEL_eb19bbe006ea4207a46625bb61456f3a",
       "IPY_MODEL_22b6ea5111284944bd911051da6eb582",
       "IPY_MODEL_61fb20f89223496ab26caf86167ce557"
      ],
      "layout": "IPY_MODEL_26bd006514264f5ea5cf00e7c93902c5"
     }
    },
    "3fe342c52c444a6494e013b8c4c4e9d2": {
     "model_module": "@jupyter-widgets/controls",
     "model_name": "DescriptionStyleModel",
     "state": {
      "_model_module": "@jupyter-widgets/controls",
      "_model_module_version": "1.5.0",
      "_model_name": "DescriptionStyleModel",
      "_view_count": null,
      "_view_module": "@jupyter-widgets/base",
      "_view_module_version": "1.2.0",
      "_view_name": "StyleView",
      "description_width": ""
     }
    },
    "45887c6e6c024894baf6cdbc2d468c50": {
     "model_module": "@jupyter-widgets/controls",
     "model_name": "TextModel",
     "state": {
      "_dom_classes": [],
      "_model_module": "@jupyter-widgets/controls",
      "_model_module_version": "1.5.0",
      "_model_name": "TextModel",
      "_view_count": null,
      "_view_module": "@jupyter-widgets/controls",
      "_view_module_version": "1.5.0",
      "_view_name": "TextView",
      "continuous_update": true,
      "description": "endTime:",
      "description_tooltip": null,
      "disabled": false,
      "layout": "IPY_MODEL_c89d02031c4540329bcc6b304274793d",
      "placeholder": "​",
      "style": "IPY_MODEL_3fe342c52c444a6494e013b8c4c4e9d2",
      "value": "30.06.2021 12:00"
     }
    },
    "4e992c85dead4cfb8903622a8170a759": {
     "model_module": "@jupyter-widgets/controls",
     "model_name": "DescriptionStyleModel",
     "state": {
      "_model_module": "@jupyter-widgets/controls",
      "_model_module_version": "1.5.0",
      "_model_name": "DescriptionStyleModel",
      "_view_count": null,
      "_view_module": "@jupyter-widgets/base",
      "_view_module_version": "1.2.0",
      "_view_name": "StyleView",
      "description_width": ""
     }
    },
    "529c2ff68764413fac4bfed9f8e342ed": {
     "model_module": "@jupyter-widgets/base",
     "model_name": "LayoutModel",
     "state": {
      "_model_module": "@jupyter-widgets/base",
      "_model_module_version": "1.2.0",
      "_model_name": "LayoutModel",
      "_view_count": null,
      "_view_module": "@jupyter-widgets/base",
      "_view_module_version": "1.2.0",
      "_view_name": "LayoutView",
      "align_content": null,
      "align_items": null,
      "align_self": null,
      "border": null,
      "bottom": null,
      "display": null,
      "flex": null,
      "flex_flow": null,
      "grid_area": null,
      "grid_auto_columns": null,
      "grid_auto_flow": null,
      "grid_auto_rows": null,
      "grid_column": null,
      "grid_gap": null,
      "grid_row": null,
      "grid_template_areas": null,
      "grid_template_columns": null,
      "grid_template_rows": null,
      "height": null,
      "justify_content": null,
      "justify_items": null,
      "left": null,
      "margin": null,
      "max_height": null,
      "max_width": null,
      "min_height": null,
      "min_width": null,
      "object_fit": null,
      "object_position": null,
      "order": null,
      "overflow": null,
      "overflow_x": null,
      "overflow_y": null,
      "padding": null,
      "right": null,
      "top": null,
      "visibility": null,
      "width": null
     }
    },
    "61fb20f89223496ab26caf86167ce557": {
     "model_module": "@jupyter-widgets/controls",
     "model_name": "FloatTextModel",
     "state": {
      "_dom_classes": [],
      "_model_module": "@jupyter-widgets/controls",
      "_model_module_version": "1.5.0",
      "_model_name": "FloatTextModel",
      "_view_count": null,
      "_view_module": "@jupyter-widgets/controls",
      "_view_module_version": "1.5.0",
      "_view_name": "FloatTextView",
      "continuous_update": false,
      "description": "Latitude end:",
      "description_tooltip": null,
      "disabled": false,
      "layout": "IPY_MODEL_3710035ede5f4f50a88a61e073cb5da2",
      "step": 0.1,
      "style": "IPY_MODEL_14b712f3e7914224980c68826c4feb39",
      "value": 38.7
     }
    },
    "6923dc12719241feb2d6a69ca5d8d512": {
     "model_module": "@jupyter-widgets/controls",
     "model_name": "DescriptionStyleModel",
     "state": {
      "_model_module": "@jupyter-widgets/controls",
      "_model_module_version": "1.5.0",
      "_model_name": "DescriptionStyleModel",
      "_view_count": null,
      "_view_module": "@jupyter-widgets/base",
      "_view_module_version": "1.2.0",
      "_view_name": "StyleView",
      "description_width": ""
     }
    },
    "74339fe93c794db484925391263767eb": {
     "model_module": "@jupyter-widgets/base",
     "model_name": "LayoutModel",
     "state": {
      "_model_module": "@jupyter-widgets/base",
      "_model_module_version": "1.2.0",
      "_model_name": "LayoutModel",
      "_view_count": null,
      "_view_module": "@jupyter-widgets/base",
      "_view_module_version": "1.2.0",
      "_view_name": "LayoutView",
      "align_content": null,
      "align_items": null,
      "align_self": null,
      "border": null,
      "bottom": null,
      "display": null,
      "flex": null,
      "flex_flow": null,
      "grid_area": null,
      "grid_auto_columns": null,
      "grid_auto_flow": null,
      "grid_auto_rows": null,
      "grid_column": null,
      "grid_gap": null,
      "grid_row": null,
      "grid_template_areas": null,
      "grid_template_columns": null,
      "grid_template_rows": null,
      "height": null,
      "justify_content": null,
      "justify_items": null,
      "left": null,
      "margin": null,
      "max_height": null,
      "max_width": null,
      "min_height": null,
      "min_width": null,
      "object_fit": null,
      "object_position": null,
      "order": null,
      "overflow": null,
      "overflow_x": null,
      "overflow_y": null,
      "padding": null,
      "right": null,
      "top": null,
      "visibility": null,
      "width": null
     }
    },
    "766c5a4b1be44de8877b3a476e144926": {
     "model_module": "@jupyter-widgets/controls",
     "model_name": "SliderStyleModel",
     "state": {
      "_model_module": "@jupyter-widgets/controls",
      "_model_module_version": "1.5.0",
      "_model_name": "SliderStyleModel",
      "_view_count": null,
      "_view_module": "@jupyter-widgets/base",
      "_view_module_version": "1.2.0",
      "_view_name": "StyleView",
      "description_width": "",
      "handle_color": null
     }
    },
    "76e92cef531b4d32b77d276b1595f051": {
     "model_module": "@jupyter-widgets/controls",
     "model_name": "DescriptionStyleModel",
     "state": {
      "_model_module": "@jupyter-widgets/controls",
      "_model_module_version": "1.5.0",
      "_model_name": "DescriptionStyleModel",
      "_view_count": null,
      "_view_module": "@jupyter-widgets/base",
      "_view_module_version": "1.2.0",
      "_view_name": "StyleView",
      "description_width": ""
     }
    },
    "781448ebbcca418dbcc4a819d9df61c0": {
     "model_module": "@jupyter-widgets/controls",
     "model_name": "VBoxModel",
     "state": {
      "_dom_classes": [],
      "_model_module": "@jupyter-widgets/controls",
      "_model_module_version": "1.5.0",
      "_model_name": "VBoxModel",
      "_view_count": null,
      "_view_module": "@jupyter-widgets/controls",
      "_view_module_version": "1.5.0",
      "_view_name": "VBoxView",
      "box_style": "",
      "children": [
       "IPY_MODEL_b8e8209e97644c3f9e72a2eeed050eb5",
       "IPY_MODEL_0c69641a27154053b03adbe7272a4641",
       "IPY_MODEL_88120988f99e475c82b4a8d88f034906",
       "IPY_MODEL_dc682e48139a4e499e66df351c51305b"
      ],
      "layout": "IPY_MODEL_801873543f004c6babd864b3cf85624b"
     }
    },
    "7c49a1334ec041cc8b0073b8ef966098": {
     "model_module": "@jupyter-widgets/base",
     "model_name": "LayoutModel",
     "state": {
      "_model_module": "@jupyter-widgets/base",
      "_model_module_version": "1.2.0",
      "_model_name": "LayoutModel",
      "_view_count": null,
      "_view_module": "@jupyter-widgets/base",
      "_view_module_version": "1.2.0",
      "_view_name": "LayoutView",
      "align_content": null,
      "align_items": null,
      "align_self": null,
      "border": null,
      "bottom": null,
      "display": null,
      "flex": null,
      "flex_flow": null,
      "grid_area": null,
      "grid_auto_columns": null,
      "grid_auto_flow": null,
      "grid_auto_rows": null,
      "grid_column": null,
      "grid_gap": null,
      "grid_row": null,
      "grid_template_areas": null,
      "grid_template_columns": null,
      "grid_template_rows": null,
      "height": null,
      "justify_content": null,
      "justify_items": null,
      "left": null,
      "margin": null,
      "max_height": null,
      "max_width": null,
      "min_height": null,
      "min_width": null,
      "object_fit": null,
      "object_position": null,
      "order": null,
      "overflow": null,
      "overflow_x": null,
      "overflow_y": null,
      "padding": null,
      "right": null,
      "top": null,
      "visibility": null,
      "width": null
     }
    },
    "7df8eb09fa344fb1bc981900662aa035": {
     "model_module": "@jupyter-widgets/controls",
     "model_name": "DescriptionStyleModel",
     "state": {
      "_model_module": "@jupyter-widgets/controls",
      "_model_module_version": "1.5.0",
      "_model_name": "DescriptionStyleModel",
      "_view_count": null,
      "_view_module": "@jupyter-widgets/base",
      "_view_module_version": "1.2.0",
      "_view_name": "StyleView",
      "description_width": ""
     }
    },
    "801873543f004c6babd864b3cf85624b": {
     "model_module": "@jupyter-widgets/base",
     "model_name": "LayoutModel",
     "state": {
      "_model_module": "@jupyter-widgets/base",
      "_model_module_version": "1.2.0",
      "_model_name": "LayoutModel",
      "_view_count": null,
      "_view_module": "@jupyter-widgets/base",
      "_view_module_version": "1.2.0",
      "_view_name": "LayoutView",
      "align_content": null,
      "align_items": null,
      "align_self": null,
      "border": null,
      "bottom": null,
      "display": null,
      "flex": null,
      "flex_flow": null,
      "grid_area": null,
      "grid_auto_columns": null,
      "grid_auto_flow": null,
      "grid_auto_rows": null,
      "grid_column": null,
      "grid_gap": null,
      "grid_row": null,
      "grid_template_areas": null,
      "grid_template_columns": null,
      "grid_template_rows": null,
      "height": null,
      "justify_content": null,
      "justify_items": null,
      "left": null,
      "margin": null,
      "max_height": null,
      "max_width": null,
      "min_height": null,
      "min_width": null,
      "object_fit": null,
      "object_position": null,
      "order": null,
      "overflow": null,
      "overflow_x": null,
      "overflow_y": null,
      "padding": null,
      "right": null,
      "top": null,
      "visibility": null,
      "width": null
     }
    },
    "831e79ea07db402f81c4ad27ea6a3ce5": {
     "model_module": "@jupyter-widgets/base",
     "model_name": "LayoutModel",
     "state": {
      "_model_module": "@jupyter-widgets/base",
      "_model_module_version": "1.2.0",
      "_model_name": "LayoutModel",
      "_view_count": null,
      "_view_module": "@jupyter-widgets/base",
      "_view_module_version": "1.2.0",
      "_view_name": "LayoutView",
      "align_content": null,
      "align_items": null,
      "align_self": null,
      "border": null,
      "bottom": null,
      "display": null,
      "flex": null,
      "flex_flow": null,
      "grid_area": null,
      "grid_auto_columns": null,
      "grid_auto_flow": null,
      "grid_auto_rows": null,
      "grid_column": null,
      "grid_gap": null,
      "grid_row": null,
      "grid_template_areas": null,
      "grid_template_columns": null,
      "grid_template_rows": null,
      "height": null,
      "justify_content": null,
      "justify_items": null,
      "left": null,
      "margin": null,
      "max_height": null,
      "max_width": null,
      "min_height": null,
      "min_width": null,
      "object_fit": null,
      "object_position": null,
      "order": null,
      "overflow": null,
      "overflow_x": null,
      "overflow_y": null,
      "padding": null,
      "right": null,
      "top": null,
      "visibility": null,
      "width": null
     }
    },
    "8342983676744d88b166dc1c9c75ffdb": {
     "model_module": "@jupyter-widgets/controls",
     "model_name": "IntTextModel",
     "state": {
      "_dom_classes": [],
      "_model_module": "@jupyter-widgets/controls",
      "_model_module_version": "1.5.0",
      "_model_name": "IntTextModel",
      "_view_count": null,
      "_view_module": "@jupyter-widgets/controls",
      "_view_module_version": "1.5.0",
      "_view_name": "IntTextView",
      "continuous_update": false,
      "description": "population:",
      "description_tooltip": null,
      "disabled": false,
      "layout": "IPY_MODEL_7c49a1334ec041cc8b0073b8ef966098",
      "step": 1,
      "style": "IPY_MODEL_7df8eb09fa344fb1bc981900662aa035",
      "value": 20
     }
    },
    "88120988f99e475c82b4a8d88f034906": {
     "model_module": "@jupyter-widgets/controls",
     "model_name": "IntTextModel",
     "state": {
      "_dom_classes": [],
      "_model_module": "@jupyter-widgets/controls",
      "_model_module_version": "1.5.0",
      "_model_name": "IntTextModel",
      "_view_count": null,
      "_view_module": "@jupyter-widgets/controls",
      "_view_module_version": "1.5.0",
      "_view_name": "IntTextView",
      "continuous_update": false,
      "description": "lat_min",
      "description_tooltip": null,
      "disabled": false,
      "layout": "IPY_MODEL_1aa7b97881664708887ee2343c6cc770",
      "step": 1,
      "style": "IPY_MODEL_f07aee925e0047e5880e23af2fbdb790",
      "value": 10
     }
    },
    "8ede14439f7f43aeaf6f063c4844ca0e": {
     "model_module": "@jupyter-widgets/controls",
     "model_name": "AccordionModel",
     "state": {
      "_dom_classes": [],
      "_model_module": "@jupyter-widgets/controls",
      "_model_module_version": "1.5.0",
      "_model_name": "AccordionModel",
      "_titles": {
       "0": "Route Definition:",
       "1": "Start and End Time:",
       "2": "Algorithm Settings:",
       "3": "Area of Interest:",
       "4": "Ship Parameter:"
      },
      "_view_count": null,
      "_view_module": "@jupyter-widgets/controls",
      "_view_module_version": "1.5.0",
      "_view_name": "AccordionView",
      "box_style": "",
      "children": [
       "IPY_MODEL_3c9f7a4b706e4b23993ad5599573f544",
       "IPY_MODEL_cc54d115ba78428291441d2c869520c9",
       "IPY_MODEL_f483a8f859c34f0d8f00d864cacccd17",
       "IPY_MODEL_781448ebbcca418dbcc4a819d9df61c0",
       "IPY_MODEL_184d96004b7d4349ba8b0f6698255bb1"
      ],
      "layout": "IPY_MODEL_cacf83a9665d4126981b2cdb89873388",
      "selected_index": 0
     }
    },
    "8fd406a417a94495bf47aab7ad11038f": {
     "model_module": "@jupyter-widgets/base",
     "model_name": "LayoutModel",
     "state": {
      "_model_module": "@jupyter-widgets/base",
      "_model_module_version": "1.2.0",
      "_model_name": "LayoutModel",
      "_view_count": null,
      "_view_module": "@jupyter-widgets/base",
      "_view_module_version": "1.2.0",
      "_view_name": "LayoutView",
      "align_content": null,
      "align_items": null,
      "align_self": null,
      "border": null,
      "bottom": null,
      "display": null,
      "flex": null,
      "flex_flow": null,
      "grid_area": null,
      "grid_auto_columns": null,
      "grid_auto_flow": null,
      "grid_auto_rows": null,
      "grid_column": null,
      "grid_gap": null,
      "grid_row": null,
      "grid_template_areas": null,
      "grid_template_columns": null,
      "grid_template_rows": null,
      "height": null,
      "justify_content": null,
      "justify_items": null,
      "left": null,
      "margin": null,
      "max_height": null,
      "max_width": null,
      "min_height": null,
      "min_width": null,
      "object_fit": null,
      "object_position": null,
      "order": null,
      "overflow": null,
      "overflow_x": null,
      "overflow_y": null,
      "padding": null,
      "right": null,
      "top": null,
      "visibility": null,
      "width": null
     }
    },
    "a19d5ac7a6024b4ead2f9223b4e92de5": {
     "model_module": "@jupyter-widgets/controls",
     "model_name": "DescriptionStyleModel",
     "state": {
      "_model_module": "@jupyter-widgets/controls",
      "_model_module_version": "1.5.0",
      "_model_name": "DescriptionStyleModel",
      "_view_count": null,
      "_view_module": "@jupyter-widgets/base",
      "_view_module_version": "1.2.0",
      "_view_name": "StyleView",
      "description_width": ""
     }
    },
    "a7c3bc61e1e84339bdec365f059e3b7e": {
     "model_module": "@jupyter-widgets/controls",
     "model_name": "DescriptionStyleModel",
     "state": {
      "_model_module": "@jupyter-widgets/controls",
      "_model_module_version": "1.5.0",
      "_model_name": "DescriptionStyleModel",
      "_view_count": null,
      "_view_module": "@jupyter-widgets/base",
      "_view_module_version": "1.2.0",
      "_view_name": "StyleView",
      "description_width": ""
     }
    },
    "b8e8209e97644c3f9e72a2eeed050eb5": {
     "model_module": "@jupyter-widgets/controls",
     "model_name": "IntTextModel",
     "state": {
      "_dom_classes": [],
      "_model_module": "@jupyter-widgets/controls",
      "_model_module_version": "1.5.0",
      "_model_name": "IntTextModel",
      "_view_count": null,
      "_view_module": "@jupyter-widgets/controls",
      "_view_module_version": "1.5.0",
      "_view_name": "IntTextView",
      "continuous_update": false,
      "description": "lon_min:",
      "description_tooltip": null,
      "disabled": false,
      "layout": "IPY_MODEL_12a33667774249e0877c3daad0d59395",
      "step": 1,
      "style": "IPY_MODEL_a19d5ac7a6024b4ead2f9223b4e92de5",
      "value": -80
     }
    },
    "bea9a55a5cb24d08a2d6f79f8206324f": {
     "model_module": "@jupyter-widgets/base",
     "model_name": "LayoutModel",
     "state": {
      "_model_module": "@jupyter-widgets/base",
      "_model_module_version": "1.2.0",
      "_model_name": "LayoutModel",
      "_view_count": null,
      "_view_module": "@jupyter-widgets/base",
      "_view_module_version": "1.2.0",
      "_view_name": "LayoutView",
      "align_content": null,
      "align_items": null,
      "align_self": null,
      "border": null,
      "bottom": null,
      "display": null,
      "flex": null,
      "flex_flow": null,
      "grid_area": null,
      "grid_auto_columns": null,
      "grid_auto_flow": null,
      "grid_auto_rows": null,
      "grid_column": null,
      "grid_gap": null,
      "grid_row": null,
      "grid_template_areas": null,
      "grid_template_columns": null,
      "grid_template_rows": null,
      "height": null,
      "justify_content": null,
      "justify_items": null,
      "left": null,
      "margin": null,
      "max_height": null,
      "max_width": null,
      "min_height": null,
      "min_width": null,
      "object_fit": null,
      "object_position": null,
      "order": null,
      "overflow": null,
      "overflow_x": null,
      "overflow_y": null,
      "padding": null,
      "right": null,
      "top": null,
      "visibility": null,
      "width": null
     }
    },
    "c24070e783b84c7ba8623c1b30263001": {
     "model_module": "@jupyter-widgets/controls",
     "model_name": "DescriptionStyleModel",
     "state": {
      "_model_module": "@jupyter-widgets/controls",
      "_model_module_version": "1.5.0",
      "_model_name": "DescriptionStyleModel",
      "_view_count": null,
      "_view_module": "@jupyter-widgets/base",
      "_view_module_version": "1.2.0",
      "_view_name": "StyleView",
      "description_width": ""
     }
    },
    "c89d02031c4540329bcc6b304274793d": {
     "model_module": "@jupyter-widgets/base",
     "model_name": "LayoutModel",
     "state": {
      "_model_module": "@jupyter-widgets/base",
      "_model_module_version": "1.2.0",
      "_model_name": "LayoutModel",
      "_view_count": null,
      "_view_module": "@jupyter-widgets/base",
      "_view_module_version": "1.2.0",
      "_view_name": "LayoutView",
      "align_content": null,
      "align_items": null,
      "align_self": null,
      "border": null,
      "bottom": null,
      "display": null,
      "flex": null,
      "flex_flow": null,
      "grid_area": null,
      "grid_auto_columns": null,
      "grid_auto_flow": null,
      "grid_auto_rows": null,
      "grid_column": null,
      "grid_gap": null,
      "grid_row": null,
      "grid_template_areas": null,
      "grid_template_columns": null,
      "grid_template_rows": null,
      "height": null,
      "justify_content": null,
      "justify_items": null,
      "left": null,
      "margin": null,
      "max_height": null,
      "max_width": null,
      "min_height": null,
      "min_width": null,
      "object_fit": null,
      "object_position": null,
      "order": null,
      "overflow": null,
      "overflow_x": null,
      "overflow_y": null,
      "padding": null,
      "right": null,
      "top": null,
      "visibility": null,
      "width": null
     }
    },
    "cacf83a9665d4126981b2cdb89873388": {
     "model_module": "@jupyter-widgets/base",
     "model_name": "LayoutModel",
     "state": {
      "_model_module": "@jupyter-widgets/base",
      "_model_module_version": "1.2.0",
      "_model_name": "LayoutModel",
      "_view_count": null,
      "_view_module": "@jupyter-widgets/base",
      "_view_module_version": "1.2.0",
      "_view_name": "LayoutView",
      "align_content": null,
      "align_items": null,
      "align_self": null,
      "border": null,
      "bottom": null,
      "display": null,
      "flex": null,
      "flex_flow": null,
      "grid_area": null,
      "grid_auto_columns": null,
      "grid_auto_flow": null,
      "grid_auto_rows": null,
      "grid_column": null,
      "grid_gap": null,
      "grid_row": null,
      "grid_template_areas": null,
      "grid_template_columns": null,
      "grid_template_rows": null,
      "height": null,
      "justify_content": null,
      "justify_items": null,
      "left": null,
      "margin": null,
      "max_height": null,
      "max_width": null,
      "min_height": null,
      "min_width": null,
      "object_fit": null,
      "object_position": null,
      "order": null,
      "overflow": null,
      "overflow_x": null,
      "overflow_y": null,
      "padding": null,
      "right": null,
      "top": null,
      "visibility": null,
      "width": null
     }
    },
    "cc54d115ba78428291441d2c869520c9": {
     "model_module": "@jupyter-widgets/controls",
     "model_name": "VBoxModel",
     "state": {
      "_dom_classes": [],
      "_model_module": "@jupyter-widgets/controls",
      "_model_module_version": "1.5.0",
      "_model_name": "VBoxModel",
      "_view_count": null,
      "_view_module": "@jupyter-widgets/controls",
      "_view_module_version": "1.5.0",
      "_view_name": "VBoxView",
      "box_style": "",
      "children": [
       "IPY_MODEL_dfe4fff3005445ad839013a17507d4e1",
       "IPY_MODEL_45887c6e6c024894baf6cdbc2d468c50"
      ],
      "layout": "IPY_MODEL_74339fe93c794db484925391263767eb"
     }
    },
    "d632a5b9448b467280af96677fbad9bd": {
     "model_module": "@jupyter-widgets/controls",
     "model_name": "FloatTextModel",
     "state": {
      "_dom_classes": [],
      "_model_module": "@jupyter-widgets/controls",
      "_model_module_version": "1.5.0",
      "_model_name": "FloatTextModel",
      "_view_count": null,
      "_view_module": "@jupyter-widgets/controls",
      "_view_module_version": "1.5.0",
      "_view_name": "FloatTextView",
      "continuous_update": false,
      "description": "Longitude start:",
      "description_tooltip": null,
      "disabled": false,
      "layout": "IPY_MODEL_831e79ea07db402f81c4ad27ea6a3ce5",
      "step": 0.1,
      "style": "IPY_MODEL_4e992c85dead4cfb8903622a8170a759",
      "value": -73
     }
    },
    "dc682e48139a4e499e66df351c51305b": {
     "model_module": "@jupyter-widgets/controls",
     "model_name": "IntTextModel",
     "state": {
      "_dom_classes": [],
      "_model_module": "@jupyter-widgets/controls",
      "_model_module_version": "1.5.0",
      "_model_name": "IntTextModel",
      "_view_count": null,
      "_view_module": "@jupyter-widgets/controls",
      "_view_module_version": "1.5.0",
      "_view_name": "IntTextView",
      "continuous_update": false,
      "description": "lat_max",
      "description_tooltip": null,
      "disabled": false,
      "layout": "IPY_MODEL_bea9a55a5cb24d08a2d6f79f8206324f",
      "step": 1,
      "style": "IPY_MODEL_a7c3bc61e1e84339bdec365f059e3b7e",
      "value": 60
     }
    },
    "dfe4fff3005445ad839013a17507d4e1": {
     "model_module": "@jupyter-widgets/controls",
     "model_name": "TextModel",
     "state": {
      "_dom_classes": [],
      "_model_module": "@jupyter-widgets/controls",
      "_model_module_version": "1.5.0",
      "_model_name": "TextModel",
      "_view_count": null,
      "_view_module": "@jupyter-widgets/controls",
      "_view_module_version": "1.5.0",
      "_view_name": "TextView",
      "continuous_update": true,
      "description": "startTime:",
      "description_tooltip": null,
      "disabled": false,
      "layout": "IPY_MODEL_183a34e597f44d77a6573076a3b173c8",
      "placeholder": "​",
      "style": "IPY_MODEL_0537853afbbf4d439074379feb03a69c",
      "value": "20.06.2021 12:00"
     }
    },
    "e970999cc93142eb8e85efaf6067361d": {
     "model_module": "@jupyter-widgets/base",
     "model_name": "LayoutModel",
     "state": {
      "_model_module": "@jupyter-widgets/base",
      "_model_module_version": "1.2.0",
      "_model_name": "LayoutModel",
      "_view_count": null,
      "_view_module": "@jupyter-widgets/base",
      "_view_module_version": "1.2.0",
      "_view_name": "LayoutView",
      "align_content": null,
      "align_items": null,
      "align_self": null,
      "border": null,
      "bottom": null,
      "display": null,
      "flex": null,
      "flex_flow": null,
      "grid_area": null,
      "grid_auto_columns": null,
      "grid_auto_flow": null,
      "grid_auto_rows": null,
      "grid_column": null,
      "grid_gap": null,
      "grid_row": null,
      "grid_template_areas": null,
      "grid_template_columns": null,
      "grid_template_rows": null,
      "height": null,
      "justify_content": null,
      "justify_items": null,
      "left": null,
      "margin": null,
      "max_height": null,
      "max_width": null,
      "min_height": null,
      "min_width": null,
      "object_fit": null,
      "object_position": null,
      "order": null,
      "overflow": null,
      "overflow_x": null,
      "overflow_y": null,
      "padding": null,
      "right": null,
      "top": null,
      "visibility": null,
      "width": null
     }
    },
    "eb19bbe006ea4207a46625bb61456f3a": {
     "model_module": "@jupyter-widgets/controls",
     "model_name": "FloatTextModel",
     "state": {
      "_dom_classes": [],
      "_model_module": "@jupyter-widgets/controls",
      "_model_module_version": "1.5.0",
      "_model_name": "FloatTextModel",
      "_view_count": null,
      "_view_module": "@jupyter-widgets/controls",
      "_view_module_version": "1.5.0",
      "_view_name": "FloatTextView",
      "continuous_update": false,
      "description": "Latitude start:",
      "description_tooltip": null,
      "disabled": false,
      "layout": "IPY_MODEL_0f56b3ec6fdc49a4909e5eeb996e7684",
      "step": 0.1,
      "style": "IPY_MODEL_379c51c3bb104726ad87e6de2c860b4a",
      "value": 40.7
     }
    },
    "f07aee925e0047e5880e23af2fbdb790": {
     "model_module": "@jupyter-widgets/controls",
     "model_name": "DescriptionStyleModel",
     "state": {
      "_model_module": "@jupyter-widgets/controls",
      "_model_module_version": "1.5.0",
      "_model_name": "DescriptionStyleModel",
      "_view_count": null,
      "_view_module": "@jupyter-widgets/base",
      "_view_module_version": "1.2.0",
      "_view_name": "StyleView",
      "description_width": ""
     }
    },
    "f483a8f859c34f0d8f00d864cacccd17": {
     "model_module": "@jupyter-widgets/controls",
     "model_name": "VBoxModel",
     "state": {
      "_dom_classes": [],
      "_model_module": "@jupyter-widgets/controls",
      "_model_module_version": "1.5.0",
      "_model_name": "VBoxModel",
      "_view_count": null,
      "_view_module": "@jupyter-widgets/controls",
      "_view_module_version": "1.5.0",
      "_view_name": "VBoxView",
      "box_style": "",
      "children": [
       "IPY_MODEL_8342983676744d88b166dc1c9c75ffdb",
       "IPY_MODEL_2397c43c24824fc6bd2741ae9b4995f0",
       "IPY_MODEL_2084f318ee704bf796a4038968b2d55a"
      ],
      "layout": "IPY_MODEL_e970999cc93142eb8e85efaf6067361d"
     }
    },
    "feb135ff8ec64a41af9b335947b92e29": {
     "model_module": "@jupyter-widgets/controls",
     "model_name": "DescriptionStyleModel",
     "state": {
      "_model_module": "@jupyter-widgets/controls",
      "_model_module_version": "1.5.0",
      "_model_name": "DescriptionStyleModel",
      "_view_count": null,
      "_view_module": "@jupyter-widgets/base",
      "_view_module_version": "1.2.0",
      "_view_name": "StyleView",
      "description_width": ""
     }
    }
   }
  }
 },
 "nbformat": 4,
 "nbformat_minor": 1
}
