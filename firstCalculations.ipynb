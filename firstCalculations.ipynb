{
 "cells": [
  {
   "cell_type": "markdown",
   "metadata": {
    "colab_type": "text",
    "id": "view-in-github"
   },
   "source": [
    "<a href=\"https://colab.research.google.com/github/jsten07/cms_routing/blob/main/firstCalculations.ipynb\" target=\"_parent\"><img src=\"https://colab.research.google.com/assets/colab-badge.svg\" alt=\"Open In Colab\"/></a>"
   ]
  },
  {
   "cell_type": "code",
   "execution_count": 3,
   "metadata": {
    "id": "ISLCTPAV79e2"
   },
   "outputs": [],
   "source": [
    "# Load libraries\n",
    "from skimage.graph import route_through_array\n",
    "import xarray as xr\n",
    "import numpy as np\n",
    "from matplotlib import pyplot as plt\n",
    "import os\n",
    "import random\n",
    "from datetime import datetime, timedelta\n",
    "import math"
   ]
  },
  {
   "cell_type": "code",
   "execution_count": 4,
   "metadata": {
    "id": "g6W207rl79e_"
   },
   "outputs": [],
   "source": [
    "#create some example values\n",
    "\n",
    "# create example Grids wit 100*100\n",
    "N = 100\n",
    "timeGrid= [[random.random() for i in range(N)] for j in range(N)]\n",
    "startpoint=(1,10)\n",
    "endpoint= (90,99)\n",
    "startTime=\"15:00\"\n",
    "endTime=\"18:00\""
   ]
  },
  {
   "cell_type": "code",
   "execution_count": 5,
   "metadata": {
    "colab": {
     "base_uri": "https://localhost:8080/"
    },
    "id": "L-8NLbh479fB",
    "outputId": "72ef942b-052b-4c53-d051-4f19d299e363"
   },
   "outputs": [
    {
     "data": {
      "text/plain": [
       "[(1, 10),\n",
       " (1, 11),\n",
       " (1, 12),\n",
       " (1, 13),\n",
       " (1, 14),\n",
       " (1, 15),\n",
       " (1, 16),\n",
       " (1, 17),\n",
       " (1, 18),\n",
       " (2, 18),\n",
       " (3, 18),\n",
       " (3, 19),\n",
       " (3, 20),\n",
       " (3, 21),\n",
       " (3, 22),\n",
       " (4, 22),\n",
       " (4, 23),\n",
       " (4, 24),\n",
       " (5, 24),\n",
       " (6, 24),\n",
       " (7, 24),\n",
       " (8, 24),\n",
       " (9, 24),\n",
       " (10, 24),\n",
       " (10, 25),\n",
       " (10, 26),\n",
       " (10, 27),\n",
       " (11, 27),\n",
       " (11, 28),\n",
       " (12, 28),\n",
       " (13, 28),\n",
       " (13, 29),\n",
       " (13, 30),\n",
       " (14, 30),\n",
       " (14, 31),\n",
       " (14, 32),\n",
       " (14, 33),\n",
       " (14, 34),\n",
       " (14, 35),\n",
       " (15, 35),\n",
       " (16, 35),\n",
       " (17, 35),\n",
       " (18, 35),\n",
       " (18, 36),\n",
       " (18, 37),\n",
       " (19, 37),\n",
       " (20, 37),\n",
       " (21, 37),\n",
       " (21, 38),\n",
       " (21, 39),\n",
       " (21, 40),\n",
       " (21, 41),\n",
       " (20, 41),\n",
       " (20, 42),\n",
       " (20, 43),\n",
       " (21, 43),\n",
       " (21, 44),\n",
       " (22, 44),\n",
       " (23, 44),\n",
       " (24, 44),\n",
       " (24, 45),\n",
       " (25, 45),\n",
       " (26, 45),\n",
       " (27, 45),\n",
       " (28, 45),\n",
       " (28, 46),\n",
       " (28, 47),\n",
       " (28, 48),\n",
       " (29, 48),\n",
       " (30, 48),\n",
       " (30, 49),\n",
       " (31, 49),\n",
       " (31, 50),\n",
       " (32, 50),\n",
       " (33, 50),\n",
       " (34, 50),\n",
       " (35, 50),\n",
       " (36, 50),\n",
       " (37, 50),\n",
       " (38, 50),\n",
       " (39, 50),\n",
       " (40, 50),\n",
       " (41, 50),\n",
       " (41, 51),\n",
       " (41, 52),\n",
       " (41, 53),\n",
       " (42, 53),\n",
       " (42, 54),\n",
       " (43, 54),\n",
       " (44, 54),\n",
       " (45, 54),\n",
       " (46, 54),\n",
       " (46, 55),\n",
       " (46, 56),\n",
       " (46, 57),\n",
       " (46, 58),\n",
       " (46, 59),\n",
       " (47, 59),\n",
       " (48, 59),\n",
       " (49, 59),\n",
       " (50, 59),\n",
       " (51, 59),\n",
       " (52, 59),\n",
       " (53, 59),\n",
       " (54, 59),\n",
       " (54, 60),\n",
       " (54, 61),\n",
       " (55, 61),\n",
       " (56, 61),\n",
       " (57, 61),\n",
       " (57, 62),\n",
       " (57, 63),\n",
       " (57, 64),\n",
       " (57, 65),\n",
       " (57, 66),\n",
       " (57, 67),\n",
       " (57, 68),\n",
       " (57, 69),\n",
       " (57, 70),\n",
       " (58, 70),\n",
       " (59, 70),\n",
       " (60, 70),\n",
       " (60, 71),\n",
       " (60, 72),\n",
       " (60, 73),\n",
       " (61, 73),\n",
       " (61, 74),\n",
       " (62, 74),\n",
       " (63, 74),\n",
       " (63, 75),\n",
       " (63, 76),\n",
       " (63, 77),\n",
       " (64, 77),\n",
       " (64, 78),\n",
       " (65, 78),\n",
       " (65, 79),\n",
       " (65, 80),\n",
       " (66, 80),\n",
       " (67, 80),\n",
       " (68, 80),\n",
       " (68, 81),\n",
       " (69, 81),\n",
       " (70, 81),\n",
       " (71, 81),\n",
       " (71, 82),\n",
       " (71, 83),\n",
       " (72, 83),\n",
       " (72, 84),\n",
       " (72, 85),\n",
       " (72, 86),\n",
       " (72, 87),\n",
       " (72, 88),\n",
       " (72, 89),\n",
       " (72, 90),\n",
       " (73, 90),\n",
       " (73, 91),\n",
       " (74, 91),\n",
       " (74, 92),\n",
       " (74, 93),\n",
       " (75, 93),\n",
       " (75, 94),\n",
       " (75, 95),\n",
       " (76, 95),\n",
       " (76, 96),\n",
       " (77, 96),\n",
       " (78, 96),\n",
       " (78, 97),\n",
       " (79, 97),\n",
       " (80, 97),\n",
       " (81, 97),\n",
       " (82, 97),\n",
       " (83, 97),\n",
       " (84, 97),\n",
       " (85, 97),\n",
       " (85, 96),\n",
       " (86, 96),\n",
       " (87, 96),\n",
       " (88, 96),\n",
       " (89, 96),\n",
       " (89, 97),\n",
       " (90, 97),\n",
       " (90, 98),\n",
       " (90, 99)]"
      ]
     },
     "execution_count": 5,
     "metadata": {},
     "output_type": "execute_result"
    }
   ],
   "source": [
    "#create Route\n",
    "route, weight = route_through_array(timeGrid, startpoint, endpoint, fully_connected=False, geometric=True)\n",
    "route"
   ]
  },
  {
   "cell_type": "code",
   "execution_count": 6,
   "metadata": {
    "colab": {
     "base_uri": "https://localhost:8080/",
     "height": 428
    },
    "id": "ZXQlm8qF79fE",
    "outputId": "b0c222bf-00ee-44ff-e6c5-f232a5fee9f7"
   },
   "outputs": [
    {
     "data": {
      "image/png": "[encoded data removed]",
      "text/plain": [
       "<Figure size 1008x504 with 1 Axes>"
      ]
     },
     "metadata": {
      "needs_background": "light"
     },
     "output_type": "display_data"
    }
   ],
   "source": [
    "#plot route\n",
    "routeDisplay=   np.stack(route, axis=-1)\n",
    "plt.figure(figsize=(14,7))\n",
    "# Costs\n",
    "plt.imshow(timeGrid, aspect='auto', vmin=np.min(timeGrid), vmax=np.max(timeGrid));\n",
    "# Route\n",
    "plt.plot(routeDisplay[1],routeDisplay[0], 'r')\n",
    "# Start/end points\n",
    "plt.plot(startpoint[1], startpoint[0], 'k^', markersize=15)\n",
    "plt.plot(endpoint[1], endpoint[0], 'k*', markersize=15)\n",
    "plt.gca().invert_yaxis();"
   ]
  },
  {
   "cell_type": "code",
   "execution_count": 7,
   "metadata": {
    "id": "OJHektHU79fG"
   },
   "outputs": [],
   "source": [
    "def makeArrays(route):\n",
    "    routeNew = []\n",
    "    for x in route:\n",
    "      routeNew.append(list(x))\n",
    "    return routeNew"
   ]
  },
  {
   "cell_type": "code",
   "execution_count": 8,
   "metadata": {
    "colab": {
     "base_uri": "https://localhost:8080/"
    },
    "id": "ho9KKWfQ79fH",
    "outputId": "eb00a533-c364-4c8e-a359-cf1296a1ebf0"
   },
   "outputs": [
    {
     "data": {
      "text/plain": [
       "[[1, 10],\n",
       " [1, 11],\n",
       " [1, 12],\n",
       " [1, 13],\n",
       " [1, 14],\n",
       " [1, 15],\n",
       " [1, 16],\n",
       " [1, 17],\n",
       " [1, 18],\n",
       " [2, 18],\n",
       " [3, 18],\n",
       " [3, 19],\n",
       " [3, 20],\n",
       " [3, 21],\n",
       " [3, 22],\n",
       " [4, 22],\n",
       " [4, 23],\n",
       " [4, 24],\n",
       " [5, 24],\n",
       " [6, 24],\n",
       " [7, 24],\n",
       " [8, 24],\n",
       " [9, 24],\n",
       " [10, 24],\n",
       " [10, 25],\n",
       " [10, 26],\n",
       " [10, 27],\n",
       " [11, 27],\n",
       " [11, 28],\n",
       " [12, 28],\n",
       " [13, 28],\n",
       " [13, 29],\n",
       " [13, 30],\n",
       " [14, 30],\n",
       " [14, 31],\n",
       " [14, 32],\n",
       " [14, 33],\n",
       " [14, 34],\n",
       " [14, 35],\n",
       " [15, 35],\n",
       " [16, 35],\n",
       " [17, 35],\n",
       " [18, 35],\n",
       " [18, 36],\n",
       " [18, 37],\n",
       " [19, 37],\n",
       " [20, 37],\n",
       " [21, 37],\n",
       " [21, 38],\n",
       " [21, 39],\n",
       " [21, 40],\n",
       " [21, 41],\n",
       " [20, 41],\n",
       " [20, 42],\n",
       " [20, 43],\n",
       " [21, 43],\n",
       " [21, 44],\n",
       " [22, 44],\n",
       " [23, 44],\n",
       " [24, 44],\n",
       " [24, 45],\n",
       " [25, 45],\n",
       " [26, 45],\n",
       " [27, 45],\n",
       " [28, 45],\n",
       " [28, 46],\n",
       " [28, 47],\n",
       " [28, 48],\n",
       " [29, 48],\n",
       " [30, 48],\n",
       " [30, 49],\n",
       " [31, 49],\n",
       " [31, 50],\n",
       " [32, 50],\n",
       " [33, 50],\n",
       " [34, 50],\n",
       " [35, 50],\n",
       " [36, 50],\n",
       " [37, 50],\n",
       " [38, 50],\n",
       " [39, 50],\n",
       " [40, 50],\n",
       " [41, 50],\n",
       " [41, 51],\n",
       " [41, 52],\n",
       " [41, 53],\n",
       " [42, 53],\n",
       " [42, 54],\n",
       " [43, 54],\n",
       " [44, 54],\n",
       " [45, 54],\n",
       " [46, 54],\n",
       " [46, 55],\n",
       " [46, 56],\n",
       " [46, 57],\n",
       " [46, 58],\n",
       " [46, 59],\n",
       " [47, 59],\n",
       " [48, 59],\n",
       " [49, 59],\n",
       " [50, 59],\n",
       " [51, 59],\n",
       " [52, 59],\n",
       " [53, 59],\n",
       " [54, 59],\n",
       " [54, 60],\n",
       " [54, 61],\n",
       " [55, 61],\n",
       " [56, 61],\n",
       " [57, 61],\n",
       " [57, 62],\n",
       " [57, 63],\n",
       " [57, 64],\n",
       " [57, 65],\n",
       " [57, 66],\n",
       " [57, 67],\n",
       " [57, 68],\n",
       " [57, 69],\n",
       " [57, 70],\n",
       " [58, 70],\n",
       " [59, 70],\n",
       " [60, 70],\n",
       " [60, 71],\n",
       " [60, 72],\n",
       " [60, 73],\n",
       " [61, 73],\n",
       " [61, 74],\n",
       " [62, 74],\n",
       " [63, 74],\n",
       " [63, 75],\n",
       " [63, 76],\n",
       " [63, 77],\n",
       " [64, 77],\n",
       " [64, 78],\n",
       " [65, 78],\n",
       " [65, 79],\n",
       " [65, 80],\n",
       " [66, 80],\n",
       " [67, 80],\n",
       " [68, 80],\n",
       " [68, 81],\n",
       " [69, 81],\n",
       " [70, 81],\n",
       " [71, 81],\n",
       " [71, 82],\n",
       " [71, 83],\n",
       " [72, 83],\n",
       " [72, 84],\n",
       " [72, 85],\n",
       " [72, 86],\n",
       " [72, 87],\n",
       " [72, 88],\n",
       " [72, 89],\n",
       " [72, 90],\n",
       " [73, 90],\n",
       " [73, 91],\n",
       " [74, 91],\n",
       " [74, 92],\n",
       " [74, 93],\n",
       " [75, 93],\n",
       " [75, 94],\n",
       " [75, 95],\n",
       " [76, 95],\n",
       " [76, 96],\n",
       " [77, 96],\n",
       " [78, 96],\n",
       " [78, 97],\n",
       " [79, 97],\n",
       " [80, 97],\n",
       " [81, 97],\n",
       " [82, 97],\n",
       " [83, 97],\n",
       " [84, 97],\n",
       " [85, 97],\n",
       " [85, 96],\n",
       " [86, 96],\n",
       " [87, 96],\n",
       " [88, 96],\n",
       " [89, 96],\n",
       " [89, 97],\n",
       " [90, 97],\n",
       " [90, 98],\n",
       " [90, 99]]"
      ]
     },
     "execution_count": 8,
     "metadata": {},
     "output_type": "execute_result"
    }
   ],
   "source": [
    "route = makeArrays(route)\n",
    "route"
   ]
  },
  {
   "cell_type": "code",
   "execution_count": 9,
   "metadata": {
    "id": "ov8622Go79fI"
   },
   "outputs": [],
   "source": [
    "def calculateTime(route, startTime, endTime):\n",
    "    sumTime = 0\n",
    "    for x in route:\n",
    "      sumTime = sumTime + timeGrid[x[0]][x[1]]\n",
    "    startTime_object = datetime.strptime(startTime, \"%H:%M\" )\n",
    "    endTime_object = datetime.strptime(endTime, \"%H:%M\" )\n",
    "    minutes_added = timedelta(minutes  = sumTime)\n",
    "    eta = startTime_object + minutes_added\n",
    "    difference= endTime_object-eta\n",
    "    total_seconds = difference.total_seconds()\n",
    "    minutes = total_seconds/60\n",
    "    return minutes\n"
   ]
  },
  {
   "cell_type": "code",
   "execution_count": 10,
   "metadata": {
    "colab": {
     "base_uri": "https://localhost:8080/"
    },
    "id": "OBXWYTh079fJ",
    "outputId": "be35df33-cde3-4cfb-af7b-d53a1dfbc5ec"
   },
   "outputs": [
    {
     "data": {
      "text/plain": [
       "133.39903851666665"
      ]
     },
     "execution_count": 10,
     "metadata": {},
     "output_type": "execute_result"
    }
   ],
   "source": [
    "difference= calculateTime(route, startTime, endTime)\n",
    "difference"
   ]
  },
  {
   "cell_type": "code",
   "execution_count": 11,
   "metadata": {
    "id": "8FKXPOyI79fK"
   },
   "outputs": [],
   "source": [
    "def calculateBearing(route):\n",
    "    for i in range(len(route)-1):\n",
    "        if route[i][0]< route[i+1][0]:\n",
    "            route[i].append(\"up\")\n",
    "        elif route[i][0] > route[i+1][0]:\n",
    "            route[i].append(\"down\")\n",
    "        elif route[i][1] < route[i+1][1]:\n",
    "            route[i].append(\"right\")\n",
    "        elif route[i][1] > route[i+1][1]:\n",
    "            route[i].append(\"left\")\n",
    "        else:\n",
    "             route[i].append(\"error\")"
   ]
  },
  {
   "cell_type": "code",
   "execution_count": 12,
   "metadata": {
    "id": "j8xVTl8279fM"
   },
   "outputs": [],
   "source": [
    "calculateBearing(route)\n"
   ]
  },
  {
   "cell_type": "code",
   "execution_count": 13,
   "metadata": {
    "colab": {
     "base_uri": "https://localhost:8080/"
    },
    "id": "CFQiB6_-79fM",
    "outputId": "c3882be3-b0fb-4b6a-9846-dd5f2da48f7e"
   },
   "outputs": [
    {
     "data": {
      "text/plain": [
       "[[1, 10, 'right'],\n",
       " [1, 11, 'right'],\n",
       " [1, 12, 'right'],\n",
       " [1, 13, 'right'],\n",
       " [1, 14, 'right'],\n",
       " [1, 15, 'right'],\n",
       " [1, 16, 'right'],\n",
       " [1, 17, 'right'],\n",
       " [1, 18, 'up'],\n",
       " [2, 18, 'up'],\n",
       " [3, 18, 'right'],\n",
       " [3, 19, 'right'],\n",
       " [3, 20, 'right'],\n",
       " [3, 21, 'right'],\n",
       " [3, 22, 'up'],\n",
       " [4, 22, 'right'],\n",
       " [4, 23, 'right'],\n",
       " [4, 24, 'up'],\n",
       " [5, 24, 'up'],\n",
       " [6, 24, 'up'],\n",
       " [7, 24, 'up'],\n",
       " [8, 24, 'up'],\n",
       " [9, 24, 'up'],\n",
       " [10, 24, 'right'],\n",
       " [10, 25, 'right'],\n",
       " [10, 26, 'right'],\n",
       " [10, 27, 'up'],\n",
       " [11, 27, 'right'],\n",
       " [11, 28, 'up'],\n",
       " [12, 28, 'up'],\n",
       " [13, 28, 'right'],\n",
       " [13, 29, 'right'],\n",
       " [13, 30, 'up'],\n",
       " [14, 30, 'right'],\n",
       " [14, 31, 'right'],\n",
       " [14, 32, 'right'],\n",
       " [14, 33, 'right'],\n",
       " [14, 34, 'right'],\n",
       " [14, 35, 'up'],\n",
       " [15, 35, 'up'],\n",
       " [16, 35, 'up'],\n",
       " [17, 35, 'up'],\n",
       " [18, 35, 'right'],\n",
       " [18, 36, 'right'],\n",
       " [18, 37, 'up'],\n",
       " [19, 37, 'up'],\n",
       " [20, 37, 'up'],\n",
       " [21, 37, 'right'],\n",
       " [21, 38, 'right'],\n",
       " [21, 39, 'right'],\n",
       " [21, 40, 'right'],\n",
       " [21, 41, 'down'],\n",
       " [20, 41, 'right'],\n",
       " [20, 42, 'right'],\n",
       " [20, 43, 'up'],\n",
       " [21, 43, 'right'],\n",
       " [21, 44, 'up'],\n",
       " [22, 44, 'up'],\n",
       " [23, 44, 'up'],\n",
       " [24, 44, 'right'],\n",
       " [24, 45, 'up'],\n",
       " [25, 45, 'up'],\n",
       " [26, 45, 'up'],\n",
       " [27, 45, 'up'],\n",
       " [28, 45, 'right'],\n",
       " [28, 46, 'right'],\n",
       " [28, 47, 'right'],\n",
       " [28, 48, 'up'],\n",
       " [29, 48, 'up'],\n",
       " [30, 48, 'right'],\n",
       " [30, 49, 'up'],\n",
       " [31, 49, 'right'],\n",
       " [31, 50, 'up'],\n",
       " [32, 50, 'up'],\n",
       " [33, 50, 'up'],\n",
       " [34, 50, 'up'],\n",
       " [35, 50, 'up'],\n",
       " [36, 50, 'up'],\n",
       " [37, 50, 'up'],\n",
       " [38, 50, 'up'],\n",
       " [39, 50, 'up'],\n",
       " [40, 50, 'up'],\n",
       " [41, 50, 'right'],\n",
       " [41, 51, 'right'],\n",
       " [41, 52, 'right'],\n",
       " [41, 53, 'up'],\n",
       " [42, 53, 'right'],\n",
       " [42, 54, 'up'],\n",
       " [43, 54, 'up'],\n",
       " [44, 54, 'up'],\n",
       " [45, 54, 'up'],\n",
       " [46, 54, 'right'],\n",
       " [46, 55, 'right'],\n",
       " [46, 56, 'right'],\n",
       " [46, 57, 'right'],\n",
       " [46, 58, 'right'],\n",
       " [46, 59, 'up'],\n",
       " [47, 59, 'up'],\n",
       " [48, 59, 'up'],\n",
       " [49, 59, 'up'],\n",
       " [50, 59, 'up'],\n",
       " [51, 59, 'up'],\n",
       " [52, 59, 'up'],\n",
       " [53, 59, 'up'],\n",
       " [54, 59, 'right'],\n",
       " [54, 60, 'right'],\n",
       " [54, 61, 'up'],\n",
       " [55, 61, 'up'],\n",
       " [56, 61, 'up'],\n",
       " [57, 61, 'right'],\n",
       " [57, 62, 'right'],\n",
       " [57, 63, 'right'],\n",
       " [57, 64, 'right'],\n",
       " [57, 65, 'right'],\n",
       " [57, 66, 'right'],\n",
       " [57, 67, 'right'],\n",
       " [57, 68, 'right'],\n",
       " [57, 69, 'right'],\n",
       " [57, 70, 'up'],\n",
       " [58, 70, 'up'],\n",
       " [59, 70, 'up'],\n",
       " [60, 70, 'right'],\n",
       " [60, 71, 'right'],\n",
       " [60, 72, 'right'],\n",
       " [60, 73, 'up'],\n",
       " [61, 73, 'right'],\n",
       " [61, 74, 'up'],\n",
       " [62, 74, 'up'],\n",
       " [63, 74, 'right'],\n",
       " [63, 75, 'right'],\n",
       " [63, 76, 'right'],\n",
       " [63, 77, 'up'],\n",
       " [64, 77, 'right'],\n",
       " [64, 78, 'up'],\n",
       " [65, 78, 'right'],\n",
       " [65, 79, 'right'],\n",
       " [65, 80, 'up'],\n",
       " [66, 80, 'up'],\n",
       " [67, 80, 'up'],\n",
       " [68, 80, 'right'],\n",
       " [68, 81, 'up'],\n",
       " [69, 81, 'up'],\n",
       " [70, 81, 'up'],\n",
       " [71, 81, 'right'],\n",
       " [71, 82, 'right'],\n",
       " [71, 83, 'up'],\n",
       " [72, 83, 'right'],\n",
       " [72, 84, 'right'],\n",
       " [72, 85, 'right'],\n",
       " [72, 86, 'right'],\n",
       " [72, 87, 'right'],\n",
       " [72, 88, 'right'],\n",
       " [72, 89, 'right'],\n",
       " [72, 90, 'up'],\n",
       " [73, 90, 'right'],\n",
       " [73, 91, 'up'],\n",
       " [74, 91, 'right'],\n",
       " [74, 92, 'right'],\n",
       " [74, 93, 'up'],\n",
       " [75, 93, 'right'],\n",
       " [75, 94, 'right'],\n",
       " [75, 95, 'up'],\n",
       " [76, 95, 'right'],\n",
       " [76, 96, 'up'],\n",
       " [77, 96, 'up'],\n",
       " [78, 96, 'right'],\n",
       " [78, 97, 'up'],\n",
       " [79, 97, 'up'],\n",
       " [80, 97, 'up'],\n",
       " [81, 97, 'up'],\n",
       " [82, 97, 'up'],\n",
       " [83, 97, 'up'],\n",
       " [84, 97, 'up'],\n",
       " [85, 97, 'left'],\n",
       " [85, 96, 'up'],\n",
       " [86, 96, 'up'],\n",
       " [87, 96, 'up'],\n",
       " [88, 96, 'up'],\n",
       " [89, 96, 'right'],\n",
       " [89, 97, 'up'],\n",
       " [90, 97, 'right'],\n",
       " [90, 98, 'right'],\n",
       " [90, 99]]"
      ]
     },
     "execution_count": 13,
     "metadata": {},
     "output_type": "execute_result"
    }
   ],
   "source": [
    "route"
   ]
  },
  {
   "cell_type": "code",
   "execution_count": 14,
   "metadata": {
    "id": "wMzV1Qqsqhj8"
   },
   "outputs": [],
   "source": [
    "def manipulate(route):\n",
    "  randomNumber = random.random()*len(route)\n",
    "  startIndex= math.floor(randomNumber)\n",
    "  startpoint = route[startIndex]\n",
    "  endIndex= math.floor(startIndex + (random.random() * (len(route)-startIndex)))\n",
    "  endpoint= route[endIndex]\n",
    "  newGrid= [[random.random() for i in range(N)] for j in range(N)]\n",
    "  manipulateRoute, weight = route_through_array(newGrid, startpoint[0:2], endpoint[0:2], fully_connected=False, geometric=True)\n",
    "  manipulateRoute = makeArrays(manipulateRoute)\n",
    "  manipulatedRoute = []\n",
    "  for i in range(startIndex):\n",
    "            manipulatedRoute.append(route[i])\n",
    "  for x in manipulateRoute:\n",
    "    manipulatedRoute.append(x)\n",
    "  for i in range((endIndex+1),len(route)):\n",
    "            manipulatedRoute.append(route[i])\n",
    "  return manipulatedRoute\n",
    "\n",
    "\n"
   ]
  },
  {
   "cell_type": "code",
   "execution_count": 15,
   "metadata": {
    "colab": {
     "base_uri": "https://localhost:8080/"
    },
    "id": "Q1FIJrGGxP_p",
    "outputId": "69498db9-4c31-4a7b-aaec-4561aba03706"
   },
   "outputs": [
    {
     "data": {
      "text/plain": [
       "[[1, 10, 'right'],\n",
       " [1, 11, 'right'],\n",
       " [1, 12, 'right'],\n",
       " [1, 13, 'right'],\n",
       " [1, 14, 'right'],\n",
       " [1, 15, 'right'],\n",
       " [1, 16, 'right'],\n",
       " [1, 17, 'right'],\n",
       " [1, 18, 'up'],\n",
       " [2, 18, 'up'],\n",
       " [3, 18, 'right'],\n",
       " [3, 19, 'right'],\n",
       " [3, 20, 'right'],\n",
       " [3, 21, 'right'],\n",
       " [3, 22, 'up'],\n",
       " [4, 22, 'right'],\n",
       " [4, 23, 'right'],\n",
       " [4, 24, 'up'],\n",
       " [5, 24, 'up'],\n",
       " [6, 24, 'up'],\n",
       " [7, 24, 'up'],\n",
       " [8, 24, 'up'],\n",
       " [9, 24, 'up'],\n",
       " [10, 24, 'right'],\n",
       " [10, 25, 'right'],\n",
       " [10, 26, 'right'],\n",
       " [10, 27, 'up'],\n",
       " [11, 27, 'right'],\n",
       " [11, 28, 'up'],\n",
       " [12, 28, 'up'],\n",
       " [13, 28, 'right'],\n",
       " [13, 29, 'right'],\n",
       " [13, 30, 'up'],\n",
       " [14, 30, 'right'],\n",
       " [14, 31, 'right'],\n",
       " [14, 32, 'right'],\n",
       " [14, 33, 'right'],\n",
       " [14, 34, 'right'],\n",
       " [14, 35, 'up'],\n",
       " [15, 35, 'up'],\n",
       " [16, 35, 'up'],\n",
       " [17, 35, 'up'],\n",
       " [18, 35, 'right'],\n",
       " [18, 36, 'right'],\n",
       " [18, 37, 'up'],\n",
       " [19, 37, 'up'],\n",
       " [20, 37, 'up'],\n",
       " [21, 37, 'right'],\n",
       " [21, 38, 'right'],\n",
       " [21, 39, 'right'],\n",
       " [21, 40, 'right'],\n",
       " [21, 41, 'down'],\n",
       " [20, 41, 'right'],\n",
       " [20, 42, 'right'],\n",
       " [20, 43, 'up'],\n",
       " [21, 43, 'right'],\n",
       " [21, 44, 'up'],\n",
       " [22, 44, 'up'],\n",
       " [23, 44, 'up'],\n",
       " [24, 44, 'right'],\n",
       " [24, 45, 'up'],\n",
       " [25, 45, 'up'],\n",
       " [26, 45, 'up'],\n",
       " [27, 45, 'up'],\n",
       " [28, 45, 'right'],\n",
       " [28, 46, 'right'],\n",
       " [28, 47, 'right'],\n",
       " [28, 48, 'up'],\n",
       " [29, 48, 'up'],\n",
       " [30, 48, 'right'],\n",
       " [30, 49, 'up'],\n",
       " [31, 49, 'right'],\n",
       " [31, 50, 'up'],\n",
       " [32, 50, 'up'],\n",
       " [33, 50, 'up'],\n",
       " [34, 50, 'up'],\n",
       " [35, 50, 'up'],\n",
       " [36, 50, 'up'],\n",
       " [37, 50, 'up'],\n",
       " [38, 50, 'up'],\n",
       " [39, 50, 'up'],\n",
       " [40, 50, 'up'],\n",
       " [41, 50, 'right'],\n",
       " [41, 51, 'right'],\n",
       " [41, 52, 'right'],\n",
       " [41, 53, 'up'],\n",
       " [42, 53, 'right'],\n",
       " [42, 54, 'up'],\n",
       " [43, 54, 'up'],\n",
       " [44, 54, 'up'],\n",
       " [45, 54, 'up'],\n",
       " [46, 54, 'right'],\n",
       " [46, 55, 'right'],\n",
       " [46, 56, 'right'],\n",
       " [46, 57, 'right'],\n",
       " [46, 58, 'right'],\n",
       " [46, 59, 'up'],\n",
       " [47, 59, 'up'],\n",
       " [48, 59, 'up'],\n",
       " [49, 59, 'up'],\n",
       " [50, 59, 'up'],\n",
       " [51, 59, 'up'],\n",
       " [52, 59, 'up'],\n",
       " [53, 59, 'up'],\n",
       " [54, 59, 'right'],\n",
       " [54, 60, 'right'],\n",
       " [54, 61, 'up'],\n",
       " [55, 61, 'up'],\n",
       " [56, 61, 'up'],\n",
       " [57, 61, 'right'],\n",
       " [57, 62, 'right'],\n",
       " [57, 63, 'right'],\n",
       " [57, 64, 'right'],\n",
       " [57, 65, 'right'],\n",
       " [57, 66, 'right'],\n",
       " [57, 67, 'right'],\n",
       " [57, 68, 'right'],\n",
       " [57, 69, 'right'],\n",
       " [57, 70, 'up'],\n",
       " [58, 70, 'up'],\n",
       " [59, 70, 'up'],\n",
       " [60, 70],\n",
       " [60, 71],\n",
       " [61, 71],\n",
       " [61, 72],\n",
       " [61, 73],\n",
       " [61, 74],\n",
       " [61, 75],\n",
       " [61, 76],\n",
       " [61, 77],\n",
       " [61, 78],\n",
       " [61, 79],\n",
       " [62, 79],\n",
       " [63, 79],\n",
       " [63, 80],\n",
       " [63, 81],\n",
       " [63, 82],\n",
       " [64, 82],\n",
       " [65, 82],\n",
       " [66, 82],\n",
       " [67, 82],\n",
       " [67, 83],\n",
       " [67, 84],\n",
       " [67, 85],\n",
       " [68, 85],\n",
       " [69, 85],\n",
       " [70, 85],\n",
       " [71, 85],\n",
       " [71, 86],\n",
       " [72, 86],\n",
       " [72, 87],\n",
       " [72, 88, 'right'],\n",
       " [72, 89, 'right'],\n",
       " [72, 90, 'up'],\n",
       " [73, 90, 'right'],\n",
       " [73, 91, 'up'],\n",
       " [74, 91, 'right'],\n",
       " [74, 92, 'right'],\n",
       " [74, 93, 'up'],\n",
       " [75, 93, 'right'],\n",
       " [75, 94, 'right'],\n",
       " [75, 95, 'up'],\n",
       " [76, 95, 'right'],\n",
       " [76, 96, 'up'],\n",
       " [77, 96, 'up'],\n",
       " [78, 96, 'right'],\n",
       " [78, 97, 'up'],\n",
       " [79, 97, 'up'],\n",
       " [80, 97, 'up'],\n",
       " [81, 97, 'up'],\n",
       " [82, 97, 'up'],\n",
       " [83, 97, 'up'],\n",
       " [84, 97, 'up'],\n",
       " [85, 97, 'left'],\n",
       " [85, 96, 'up'],\n",
       " [86, 96, 'up'],\n",
       " [87, 96, 'up'],\n",
       " [88, 96, 'up'],\n",
       " [89, 96, 'right'],\n",
       " [89, 97, 'up'],\n",
       " [90, 97, 'right'],\n",
       " [90, 98, 'right'],\n",
       " [90, 99]]"
      ]
     },
     "execution_count": 15,
     "metadata": {},
     "output_type": "execute_result"
    }
   ],
   "source": [
    "manipulatedRoute = manipulate(route)\n",
    "manipulatedRoute"
   ]
  },
  {
   "cell_type": "code",
   "execution_count": 16,
   "metadata": {
    "id": "IkeuR5AG3gu9"
   },
   "outputs": [],
   "source": [
    "def removeBearingForDisplay(route):\n",
    "  newRoute= []\n",
    "  for x in route:\n",
    "      newRoute.append(x[0:2])\n",
    "  return newRoute"
   ]
  },
  {
   "cell_type": "code",
   "execution_count": 17,
   "metadata": {
    "colab": {
     "base_uri": "https://localhost:8080/",
     "height": 428
    },
    "id": "1OyEihS027q_",
    "outputId": "dff9cc1d-dd13-4c0a-d0d8-7cfb0b3ac0c6"
   },
   "outputs": [
    {
     "data": {
      "image/png": "[encoded data removed]",
      "text/plain": [
       "<Figure size 1008x504 with 1 Axes>"
      ]
     },
     "metadata": {
      "needs_background": "light"
     },
     "output_type": "display_data"
    }
   ],
   "source": [
    "routeDisplay= removeBearingForDisplay(route)\n",
    "routeDisplay=  np.stack(routeDisplay, axis=-1)\n",
    "manipulateRouteDisplay= removeBearingForDisplay(manipulatedRoute)\n",
    "manipulateRouteDisplay= np.stack(manipulateRouteDisplay, axis=-1)\n",
    "plt.figure(figsize=(14,7))\n",
    "# Costs\n",
    "plt.imshow(timeGrid, aspect='auto', vmin=np.min(timeGrid), vmax=np.max(timeGrid));\n",
    "# Route\n",
    "plt.plot(routeDisplay[1],routeDisplay[0], 'r')\n",
    "plt.plot(manipulateRouteDisplay[1],manipulateRouteDisplay[0], 'b')\n",
    "# Start/end points\n",
    "plt.plot(startpoint[1], startpoint[0], 'k^', markersize=15)\n",
    "plt.plot(endpoint[1], endpoint[0], 'k*', markersize=15)\n",
    "plt.gca().invert_yaxis();"
   ]
  },
  {
   "cell_type": "code",
   "execution_count": 18,
   "metadata": {
    "id": "j3nii5oVAKFn"
   },
   "outputs": [],
   "source": [
    "def closest_node(node, nodes):\n",
    "    nodes = np.asarray(nodes)\n",
    "    dist_2 = np.sum((nodes - node)**2, axis=1)\n",
    "    return np.argmin(dist_2)"
   ]
  },
  {
   "cell_type": "code",
   "execution_count": 19,
   "metadata": {
    "id": "Vq7I41N948Yx"
   },
   "outputs": [],
   "source": [
    "def crossover(route1, route2):\n",
    "  randomNumber = math.floor(random.random()*len(route))\n",
    "  crossoverPoint1 = route1[randomNumber]\n",
    "  index= closest_node(crossoverPoint1, route2)\n",
    "  crossoverPoint2 = route2[index]\n",
    "  print(index, crossoverPoint1, crossoverPoint2)\n",
    "  newGrid= [[random.random() for i in range(N)] for j in range(N)]\n",
    "  crossoverRoute, weight = route_through_array(newGrid, crossoverPoint1[0:2], crossoverPoint2[0:2], fully_connected=False, geometric=True)\n",
    "  child1= []\n",
    "  child2= []\n",
    "  print(route1[0:randomNumber], crossoverRoute, route2[index:len(route2)])\n",
    "  print(route2[0:index], crossoverRoute, route1[randomNumber:len(route1)])\n",
    "  for i in range(randomNumber):\n",
    "    child1.append(route1[i])\n",
    "  for i in range(index):\n",
    "    child2.append(route2[i])\n",
    "  for x in crossoverRoute:\n",
    "    child1.append(x)\n",
    "  for i in range(len(crossoverRoute) -1, 0, -1):\n",
    "    print(i)\n",
    "    child2.append(crossoverRoute[i])\n",
    "  for i in range(index +1,len(route2)):\n",
    "    child1.append(route2[i])\n",
    "  for i in range(randomNumber,len(route1)):\n",
    "    child2.append(route1[i])\n",
    "  return[child1, child2, crossoverRoute]\n",
    "\n"
   ]
  },
  {
   "cell_type": "code",
   "execution_count": 20,
   "metadata": {
    "id": "mEav4a7CCuKx"
   },
   "outputs": [],
   "source": [
    "newGrid= [[random.random() for i in range(N)] for j in range(N)]\n",
    "route2, weight = route_through_array(newGrid, startpoint, endpoint, fully_connected=False, geometric=True)\n"
   ]
  },
  {
   "cell_type": "code",
   "execution_count": 21,
   "metadata": {
    "colab": {
     "base_uri": "https://localhost:8080/",
     "height": 428
    },
    "id": "OLH5q618DI24",
    "outputId": "2e5c5644-be35-4c70-9ff6-96acc7c2d5f8"
   },
   "outputs": [
    {
     "data": {
      "image/png": "[encoded data removed]",
      "text/plain": [
       "<Figure size 1008x504 with 1 Axes>"
      ]
     },
     "metadata": {
      "needs_background": "light"
     },
     "output_type": "display_data"
    }
   ],
   "source": [
    "routeDisplay= removeBearingForDisplay(route)\n",
    "routeDisplay=  np.stack(routeDisplay, axis=-1)\n",
    "route2Display= removeBearingForDisplay(route2)\n",
    "route2Display= np.stack(route2Display, axis=-1)\n",
    "plt.figure(figsize=(14,7))\n",
    "# Costs\n",
    "plt.imshow(timeGrid, aspect='auto', vmin=np.min(timeGrid), vmax=np.max(timeGrid));\n",
    "# Route\n",
    "plt.plot(routeDisplay[1],routeDisplay[0], 'r')\n",
    "plt.plot(route2Display[1],route2Display[0], 'b')\n",
    "# Start/end points\n",
    "plt.plot(startpoint[1], startpoint[0], 'k^', markersize=15)\n",
    "plt.plot(endpoint[1], endpoint[0], 'k*', markersize=15)\n",
    "plt.gca().invert_yaxis();"
   ]
  },
  {
   "cell_type": "code",
   "execution_count": 34,
   "metadata": {
    "colab": {
     "base_uri": "https://localhost:8080/"
    },
    "id": "W6cCWiFQDyrn",
    "outputId": "9863bc2c-8abf-481e-ca30-373b97f33c0d"
   },
   "outputs": [
    {
     "ename": "UFuncTypeError",
     "evalue": "ufunc 'subtract' did not contain a loop with signature matching types (dtype('<U21'), dtype('<U21')) -> dtype('<U21')",
     "output_type": "error",
     "traceback": [
      "\u001b[0;31m---------------------------------------------------------------------------\u001b[0m",
      "\u001b[0;31mUFuncTypeError\u001b[0m                            Traceback (most recent call last)",
      "\u001b[0;32m<ipython-input-34-8df32ff4d10b>\u001b[0m in \u001b[0;36m<module>\u001b[0;34m\u001b[0m\n\u001b[0;32m----> 1\u001b[0;31m \u001b[0mchilds\u001b[0m \u001b[0;34m=\u001b[0m \u001b[0mcrossover\u001b[0m\u001b[0;34m(\u001b[0m\u001b[0mroute\u001b[0m\u001b[0;34m,\u001b[0m \u001b[0mroute2\u001b[0m\u001b[0;34m)\u001b[0m\u001b[0;34m\u001b[0m\u001b[0;34m\u001b[0m\u001b[0m\n\u001b[0m",
      "\u001b[0;32m<ipython-input-19-64f7ce3a4a79>\u001b[0m in \u001b[0;36mcrossover\u001b[0;34m(route1, route2)\u001b[0m\n\u001b[1;32m      2\u001b[0m   \u001b[0mrandomNumber\u001b[0m \u001b[0;34m=\u001b[0m \u001b[0mmath\u001b[0m\u001b[0;34m.\u001b[0m\u001b[0mfloor\u001b[0m\u001b[0;34m(\u001b[0m\u001b[0mrandom\u001b[0m\u001b[0;34m.\u001b[0m\u001b[0mrandom\u001b[0m\u001b[0;34m(\u001b[0m\u001b[0;34m)\u001b[0m\u001b[0;34m*\u001b[0m\u001b[0mlen\u001b[0m\u001b[0;34m(\u001b[0m\u001b[0mroute\u001b[0m\u001b[0;34m)\u001b[0m\u001b[0;34m)\u001b[0m\u001b[0;34m\u001b[0m\u001b[0;34m\u001b[0m\u001b[0m\n\u001b[1;32m      3\u001b[0m   \u001b[0mcrossoverPoint1\u001b[0m \u001b[0;34m=\u001b[0m \u001b[0mroute1\u001b[0m\u001b[0;34m[\u001b[0m\u001b[0mrandomNumber\u001b[0m\u001b[0;34m]\u001b[0m\u001b[0;34m\u001b[0m\u001b[0;34m\u001b[0m\u001b[0m\n\u001b[0;32m----> 4\u001b[0;31m   \u001b[0mindex\u001b[0m\u001b[0;34m=\u001b[0m \u001b[0mclosest_node\u001b[0m\u001b[0;34m(\u001b[0m\u001b[0mcrossoverPoint1\u001b[0m\u001b[0;34m,\u001b[0m \u001b[0mroute2\u001b[0m\u001b[0;34m)\u001b[0m\u001b[0;34m\u001b[0m\u001b[0;34m\u001b[0m\u001b[0m\n\u001b[0m\u001b[1;32m      5\u001b[0m   \u001b[0mcrossoverPoint2\u001b[0m \u001b[0;34m=\u001b[0m \u001b[0mroute2\u001b[0m\u001b[0;34m[\u001b[0m\u001b[0mindex\u001b[0m\u001b[0;34m]\u001b[0m\u001b[0;34m\u001b[0m\u001b[0;34m\u001b[0m\u001b[0m\n\u001b[1;32m      6\u001b[0m   \u001b[0mprint\u001b[0m\u001b[0;34m(\u001b[0m\u001b[0mindex\u001b[0m\u001b[0;34m,\u001b[0m \u001b[0mcrossoverPoint1\u001b[0m\u001b[0;34m,\u001b[0m \u001b[0mcrossoverPoint2\u001b[0m\u001b[0;34m)\u001b[0m\u001b[0;34m\u001b[0m\u001b[0;34m\u001b[0m\u001b[0m\n",
      "\u001b[0;32m<ipython-input-18-08566e576f47>\u001b[0m in \u001b[0;36mclosest_node\u001b[0;34m(node, nodes)\u001b[0m\n\u001b[1;32m      1\u001b[0m \u001b[0;32mdef\u001b[0m \u001b[0mclosest_node\u001b[0m\u001b[0;34m(\u001b[0m\u001b[0mnode\u001b[0m\u001b[0;34m,\u001b[0m \u001b[0mnodes\u001b[0m\u001b[0;34m)\u001b[0m\u001b[0;34m:\u001b[0m\u001b[0;34m\u001b[0m\u001b[0;34m\u001b[0m\u001b[0m\n\u001b[1;32m      2\u001b[0m     \u001b[0mnodes\u001b[0m \u001b[0;34m=\u001b[0m \u001b[0mnp\u001b[0m\u001b[0;34m.\u001b[0m\u001b[0masarray\u001b[0m\u001b[0;34m(\u001b[0m\u001b[0mnodes\u001b[0m\u001b[0;34m)\u001b[0m\u001b[0;34m\u001b[0m\u001b[0;34m\u001b[0m\u001b[0m\n\u001b[0;32m----> 3\u001b[0;31m     \u001b[0mdist_2\u001b[0m \u001b[0;34m=\u001b[0m \u001b[0mnp\u001b[0m\u001b[0;34m.\u001b[0m\u001b[0msum\u001b[0m\u001b[0;34m(\u001b[0m\u001b[0;34m(\u001b[0m\u001b[0mnodes\u001b[0m \u001b[0;34m-\u001b[0m \u001b[0mnode\u001b[0m\u001b[0;34m)\u001b[0m\u001b[0;34m**\u001b[0m\u001b[0;36m2\u001b[0m\u001b[0;34m,\u001b[0m \u001b[0maxis\u001b[0m\u001b[0;34m=\u001b[0m\u001b[0;36m1\u001b[0m\u001b[0;34m)\u001b[0m\u001b[0;34m\u001b[0m\u001b[0;34m\u001b[0m\u001b[0m\n\u001b[0m\u001b[1;32m      4\u001b[0m     \u001b[0;32mreturn\u001b[0m \u001b[0mnp\u001b[0m\u001b[0;34m.\u001b[0m\u001b[0margmin\u001b[0m\u001b[0;34m(\u001b[0m\u001b[0mdist_2\u001b[0m\u001b[0;34m)\u001b[0m\u001b[0;34m\u001b[0m\u001b[0;34m\u001b[0m\u001b[0m\n",
      "\u001b[0;31mUFuncTypeError\u001b[0m: ufunc 'subtract' did not contain a loop with signature matching types (dtype('<U21'), dtype('<U21')) -> dtype('<U21')"
     ]
    }
   ],
   "source": [
    "childs = crossover(route, route2)"
   ]
  },
  {
   "cell_type": "code",
   "execution_count": 28,
   "metadata": {
    "colab": {
     "base_uri": "https://localhost:8080/",
     "height": 428
    },
    "id": "FnHaqDilEsh8",
    "outputId": "cda0e1bb-16d9-45be-a6cf-b06be0e39de6"
   },
   "outputs": [
    {
     "ename": "NameError",
     "evalue": "name 'childs' is not defined",
     "output_type": "error",
     "traceback": [
      "\u001b[0;31m---------------------------------------------------------------------------\u001b[0m",
      "\u001b[0;31mNameError\u001b[0m                                 Traceback (most recent call last)",
      "\u001b[0;32m<ipython-input-28-3418e4349fee>\u001b[0m in \u001b[0;36m<module>\u001b[0;34m\u001b[0m\n\u001b[0;32m----> 1\u001b[0;31m \u001b[0mchild1Display\u001b[0m\u001b[0;34m=\u001b[0m \u001b[0mremoveBearingForDisplay\u001b[0m\u001b[0;34m(\u001b[0m\u001b[0mchilds\u001b[0m\u001b[0;34m[\u001b[0m\u001b[0;36m0\u001b[0m\u001b[0;34m]\u001b[0m\u001b[0;34m)\u001b[0m\u001b[0;34m\u001b[0m\u001b[0;34m\u001b[0m\u001b[0m\n\u001b[0m\u001b[1;32m      2\u001b[0m \u001b[0mchild1Display\u001b[0m\u001b[0;34m=\u001b[0m  \u001b[0mnp\u001b[0m\u001b[0;34m.\u001b[0m\u001b[0mstack\u001b[0m\u001b[0;34m(\u001b[0m\u001b[0mchild1Display\u001b[0m\u001b[0;34m,\u001b[0m \u001b[0maxis\u001b[0m\u001b[0;34m=\u001b[0m\u001b[0;34m-\u001b[0m\u001b[0;36m1\u001b[0m\u001b[0;34m)\u001b[0m\u001b[0;34m\u001b[0m\u001b[0;34m\u001b[0m\u001b[0m\n\u001b[1;32m      3\u001b[0m \u001b[0mchild2Display\u001b[0m\u001b[0;34m=\u001b[0m \u001b[0mremoveBearingForDisplay\u001b[0m\u001b[0;34m(\u001b[0m\u001b[0mchilds\u001b[0m\u001b[0;34m[\u001b[0m\u001b[0;36m1\u001b[0m\u001b[0;34m]\u001b[0m\u001b[0;34m)\u001b[0m\u001b[0;34m\u001b[0m\u001b[0;34m\u001b[0m\u001b[0m\n\u001b[1;32m      4\u001b[0m \u001b[0mchild2Display\u001b[0m\u001b[0;34m=\u001b[0m \u001b[0mnp\u001b[0m\u001b[0;34m.\u001b[0m\u001b[0mstack\u001b[0m\u001b[0;34m(\u001b[0m\u001b[0mchild2Display\u001b[0m\u001b[0;34m,\u001b[0m \u001b[0maxis\u001b[0m\u001b[0;34m=\u001b[0m\u001b[0;34m-\u001b[0m\u001b[0;36m1\u001b[0m\u001b[0;34m)\u001b[0m\u001b[0;34m\u001b[0m\u001b[0;34m\u001b[0m\u001b[0m\n\u001b[1;32m      5\u001b[0m \u001b[0;34m\u001b[0m\u001b[0m\n",
      "\u001b[0;31mNameError\u001b[0m: name 'childs' is not defined"
     ]
    }
   ],
   "source": [
    "child1Display= removeBearingForDisplay(childs[0])\n",
    "child1Display=  np.stack(child1Display, axis=-1)\n",
    "child2Display= removeBearingForDisplay(childs[1])\n",
    "child2Display= np.stack(child2Display, axis=-1)\n",
    "\n",
    "crossoverDisplay= np.stack(childs[2], axis=-1)\n",
    "plt.figure(figsize=(14,7))\n",
    "# Costs\n",
    "plt.imshow(timeGrid, aspect='auto', vmin=np.min(timeGrid), vmax=np.max(timeGrid));\n",
    "# Route\n",
    "plt.plot(child1Display[1],child1Display[0], 'r')\n",
    "plt.plot(child2Display[1],child2Display[0], 'b')\n",
    "plt.plot(crossoverDisplay[1],crossoverDisplay[0], 'g')\n",
    "# Start/end points\n",
    "plt.plot(startpoint[1], startpoint[0], 'k^', markersize=15)\n",
    "plt.plot(endpoint[1], endpoint[0], 'k*', markersize=15)\n",
    "plt.gca().invert_yaxis();"
   ]
  },
  {
   "cell_type": "code",
   "execution_count": 29,
   "metadata": {
    "id": "ssN2LeuNNrfy"
   },
   "outputs": [],
   "source": [
    "def findDuplicate(node, nodes, index):\n",
    "    nodes= nodes[index: len(nodes)]\n",
    "    nodes = np.asarray(nodes)\n",
    "    dist_2 = np.sum((nodes - node)**2, axis=1)\n",
    "    return np.where(dist_2 == 0)"
   ]
  },
  {
   "cell_type": "code",
   "execution_count": 30,
   "metadata": {
    "id": "-Ln3tBBxFGIf"
   },
   "outputs": [],
   "source": [
    "def eleminateDuplicates(route):\n",
    "    for i in range(0, len(route)):\n",
    "      duplicate=findDuplicate(route[i],route, i)\n",
    "      duplicate=duplicate[0]\n",
    "      if len(duplicate) > 1:\n",
    "        print(duplicate[0], duplicate[1])\n",
    "        newArray= route[:i] + route[i+duplicate[1]:]\n",
    "        return newArray\n",
    "    return route\n"
   ]
  },
  {
   "cell_type": "code",
   "execution_count": 31,
   "metadata": {
    "colab": {
     "base_uri": "https://localhost:8080/"
    },
    "id": "LfYSMVZkNzgD",
    "outputId": "4b9aadaa-3c58-4157-f39f-93e16aedb02b"
   },
   "outputs": [
    {
     "ename": "NameError",
     "evalue": "name 'childs' is not defined",
     "output_type": "error",
     "traceback": [
      "\u001b[0;31m---------------------------------------------------------------------------\u001b[0m",
      "\u001b[0;31mNameError\u001b[0m                                 Traceback (most recent call last)",
      "\u001b[0;32m<ipython-input-31-53aa94dac3c3>\u001b[0m in \u001b[0;36m<module>\u001b[0;34m\u001b[0m\n\u001b[0;32m----> 1\u001b[0;31m \u001b[0mchild1\u001b[0m \u001b[0;34m=\u001b[0m \u001b[0meleminateDuplicates\u001b[0m\u001b[0;34m(\u001b[0m\u001b[0mchilds\u001b[0m\u001b[0;34m[\u001b[0m\u001b[0;36m0\u001b[0m\u001b[0;34m]\u001b[0m\u001b[0;34m)\u001b[0m\u001b[0;34m\u001b[0m\u001b[0;34m\u001b[0m\u001b[0m\n\u001b[0m\u001b[1;32m      2\u001b[0m \u001b[0mchild2\u001b[0m \u001b[0;34m=\u001b[0m \u001b[0meleminateDuplicates\u001b[0m\u001b[0;34m(\u001b[0m\u001b[0mchilds\u001b[0m\u001b[0;34m[\u001b[0m\u001b[0;36m1\u001b[0m\u001b[0;34m]\u001b[0m\u001b[0;34m)\u001b[0m\u001b[0;34m\u001b[0m\u001b[0;34m\u001b[0m\u001b[0m\n",
      "\u001b[0;31mNameError\u001b[0m: name 'childs' is not defined"
     ]
    }
   ],
   "source": [
    "child1 = eleminateDuplicates(childs[0])\n",
    "child2 = eleminateDuplicates(childs[1])"
   ]
  },
  {
   "cell_type": "code",
   "execution_count": 32,
   "metadata": {
    "colab": {
     "base_uri": "https://localhost:8080/",
     "height": 428
    },
    "id": "POthItJXTbAo",
    "outputId": "054d8cd5-9067-43c8-fbc6-ba23ea6a50af"
   },
   "outputs": [
    {
     "ename": "NameError",
     "evalue": "name 'child1' is not defined",
     "output_type": "error",
     "traceback": [
      "\u001b[0;31m---------------------------------------------------------------------------\u001b[0m",
      "\u001b[0;31mNameError\u001b[0m                                 Traceback (most recent call last)",
      "\u001b[0;32m<ipython-input-32-e9b222da64c4>\u001b[0m in \u001b[0;36m<module>\u001b[0;34m\u001b[0m\n\u001b[0;32m----> 1\u001b[0;31m \u001b[0mchild1Display\u001b[0m\u001b[0;34m=\u001b[0m \u001b[0mremoveBearingForDisplay\u001b[0m\u001b[0;34m(\u001b[0m\u001b[0mchild1\u001b[0m\u001b[0;34m)\u001b[0m\u001b[0;34m\u001b[0m\u001b[0;34m\u001b[0m\u001b[0m\n\u001b[0m\u001b[1;32m      2\u001b[0m \u001b[0mchild1Display\u001b[0m\u001b[0;34m=\u001b[0m  \u001b[0mnp\u001b[0m\u001b[0;34m.\u001b[0m\u001b[0mstack\u001b[0m\u001b[0;34m(\u001b[0m\u001b[0mchild1Display\u001b[0m\u001b[0;34m,\u001b[0m \u001b[0maxis\u001b[0m\u001b[0;34m=\u001b[0m\u001b[0;34m-\u001b[0m\u001b[0;36m1\u001b[0m\u001b[0;34m)\u001b[0m\u001b[0;34m\u001b[0m\u001b[0;34m\u001b[0m\u001b[0m\n\u001b[1;32m      3\u001b[0m \u001b[0mchild2Display\u001b[0m\u001b[0;34m=\u001b[0m \u001b[0mremoveBearingForDisplay\u001b[0m\u001b[0;34m(\u001b[0m\u001b[0mchild2\u001b[0m\u001b[0;34m)\u001b[0m\u001b[0;34m\u001b[0m\u001b[0;34m\u001b[0m\u001b[0m\n\u001b[1;32m      4\u001b[0m \u001b[0mchild2Display\u001b[0m\u001b[0;34m=\u001b[0m \u001b[0mnp\u001b[0m\u001b[0;34m.\u001b[0m\u001b[0mstack\u001b[0m\u001b[0;34m(\u001b[0m\u001b[0mchild2Display\u001b[0m\u001b[0;34m,\u001b[0m \u001b[0maxis\u001b[0m\u001b[0;34m=\u001b[0m\u001b[0;34m-\u001b[0m\u001b[0;36m1\u001b[0m\u001b[0;34m)\u001b[0m\u001b[0;34m\u001b[0m\u001b[0;34m\u001b[0m\u001b[0m\n\u001b[1;32m      5\u001b[0m \u001b[0;34m\u001b[0m\u001b[0m\n",
      "\u001b[0;31mNameError\u001b[0m: name 'child1' is not defined"
     ]
    }
   ],
   "source": [
    "child1Display= removeBearingForDisplay(child1)\n",
    "child1Display=  np.stack(child1Display, axis=-1)\n",
    "child2Display= removeBearingForDisplay(child2)\n",
    "child2Display= np.stack(child2Display, axis=-1)\n",
    "\n",
    "crossoverDisplay= np.stack(childs[2], axis=-1)\n",
    "plt.figure(figsize=(14,7))\n",
    "# Costs\n",
    "plt.imshow(timeGrid, aspect='auto', vmin=np.min(timeGrid), vmax=np.max(timeGrid));\n",
    "# Route\n",
    "plt.plot(child1Display[1],child1Display[0], 'r')\n",
    "plt.plot(child2Display[1],child2Display[0], 'b')\n",
    "plt.plot(crossoverDisplay[1],crossoverDisplay[0], 'g')\n",
    "# Start/end points\n",
    "plt.plot(startpoint[1], startpoint[0], 'k^', markersize=15)\n",
    "plt.plot(endpoint[1], endpoint[0], 'k*', markersize=15)\n",
    "plt.gca().invert_yaxis();"
   ]
  },
  {
   "cell_type": "code",
   "execution_count": 33,
   "metadata": {
    "colab": {
     "base_uri": "https://localhost:8080/"
    },
    "id": "MhdaKLLXTowK",
    "outputId": "4da349a9-034c-416e-898a-1d3ac4049f0c"
   },
   "outputs": [
    {
     "ename": "NameError",
     "evalue": "name 'childs' is not defined",
     "output_type": "error",
     "traceback": [
      "\u001b[0;31m---------------------------------------------------------------------------\u001b[0m",
      "\u001b[0;31mNameError\u001b[0m                                 Traceback (most recent call last)",
      "\u001b[0;32m<ipython-input-33-f36eed551d4c>\u001b[0m in \u001b[0;36m<module>\u001b[0;34m\u001b[0m\n\u001b[0;32m----> 1\u001b[0;31m \u001b[0mfindDuplicate\u001b[0m\u001b[0;34m(\u001b[0m\u001b[0;34m[\u001b[0m\u001b[0;36m1\u001b[0m\u001b[0;34m,\u001b[0m\u001b[0;36m10\u001b[0m\u001b[0;34m]\u001b[0m\u001b[0;34m,\u001b[0m \u001b[0mchilds\u001b[0m\u001b[0;34m[\u001b[0m\u001b[0;36m1\u001b[0m\u001b[0;34m]\u001b[0m\u001b[0;34m,\u001b[0m \u001b[0;36m0\u001b[0m\u001b[0;34m)\u001b[0m\u001b[0;34m\u001b[0m\u001b[0;34m\u001b[0m\u001b[0m\n\u001b[0m",
      "\u001b[0;31mNameError\u001b[0m: name 'childs' is not defined"
     ]
    }
   ],
   "source": [
    "findDuplicate([1,10], childs[1], 0)"
   ]
  },
  {
   "cell_type": "markdown",
   "metadata": {},
   "source": [
    "### Mutate offspring"
   ]
  },
  {
   "cell_type": "code",
   "execution_count": 1,
   "metadata": {},
   "outputs": [],
   "source": [
    "def mutate(crossover_offspring, probability, timeGrid):\n",
    "    \n",
    "    mutant_offspring = copy.deepcopy(crossover_offspring)\n",
    "    \n",
    "    for i in range(1, len(mutant_offspring)):\n",
    "        if random.random() < probability:\n",
    "            \n",
    "            go = True\n",
    "\n",
    "            while go:\n",
    "\n",
    "                possible_values = np.nonzero(timeGrid[mutant_offspring[i-1]])\n",
    "                proposed_value = random.randint(0,len(possible_values[0])-1)\n",
    "                crossover_offspring = np.append(mutant_offspring, possible_values[0][proposed_value])\n",
    "\n",
    "                if mutant_offspring[i] == len(timeGrid)-1:\n",
    "                    go = False\n",
    "                else:\n",
    "                    i += 1\n",
    "    \n",
    "    return mutant_offspring"
   ]
  },
  {
   "cell_type": "code",
   "execution_count": 2,
   "metadata": {},
   "outputs": [
    {
     "ename": "NameError",
     "evalue": "name 'child1' is not defined",
     "output_type": "error",
     "traceback": [
      "\u001b[0;31m---------------------------------------------------------------------------\u001b[0m",
      "\u001b[0;31mNameError\u001b[0m                                 Traceback (most recent call last)",
      "\u001b[0;32m<ipython-input-2-e91523ff3817>\u001b[0m in \u001b[0;36m<module>\u001b[0;34m\u001b[0m\n\u001b[0;32m----> 1\u001b[0;31m \u001b[0mmutate\u001b[0m\u001b[0;34m(\u001b[0m\u001b[0mchild1\u001b[0m\u001b[0;34m,\u001b[0m \u001b[0;36m0.05\u001b[0m\u001b[0;34m,\u001b[0m \u001b[0mtimeGrid\u001b[0m\u001b[0;34m)\u001b[0m\u001b[0;34m\u001b[0m\u001b[0;34m\u001b[0m\u001b[0m\n\u001b[0m",
      "\u001b[0;31mNameError\u001b[0m: name 'child1' is not defined"
     ]
    }
   ],
   "source": [
    "mutate(child1, 0.05, timeGrid)"
   ]
  },
  {
   "cell_type": "code",
   "execution_count": null,
   "metadata": {},
   "outputs": [],
   "source": [
    "### Merge main population and offsprings"
   ]
  }
 ],
 "metadata": {
  "colab": {
   "include_colab_link": true,
   "name": "firstCalculations.ipynb",
   "provenance": []
  },
  "kernelspec": {
   "display_name": "Python 3",
   "language": "python",
   "name": "python3"
  },
  "language_info": {
   "codemirror_mode": {
    "name": "ipython",
    "version": 3
   },
   "file_extension": ".py",
   "mimetype": "text/x-python",
   "name": "python",
   "nbconvert_exporter": "python",
   "pygments_lexer": "ipython3",
   "version": "3.8.5"
  }
 },
 "nbformat": 4,
 "nbformat_minor": 1
}
